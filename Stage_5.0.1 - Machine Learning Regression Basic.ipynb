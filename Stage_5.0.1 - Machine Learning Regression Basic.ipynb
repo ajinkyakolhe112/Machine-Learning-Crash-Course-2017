{
 "cells": [
  {
   "cell_type": "markdown",
   "metadata": {},
   "source": [
    "# Regression"
   ]
  },
  {
   "cell_type": "code",
   "execution_count": 1,
   "metadata": {},
   "outputs": [],
   "source": [
    "import numpy as np\n",
    "import matplotlib.pyplot as plt\n",
    "%matplotlib inline"
   ]
  },
  {
   "cell_type": "markdown",
   "metadata": {},
   "source": [
    "## Simple Regression"
   ]
  },
  {
   "cell_type": "code",
   "execution_count": 2,
   "metadata": {},
   "outputs": [],
   "source": [
    "x = np.arange(9)\n",
    "y = x + 1"
   ]
  },
  {
   "cell_type": "code",
   "execution_count": 3,
   "metadata": {},
   "outputs": [
    {
     "name": "stdout",
     "output_type": "stream",
     "text": [
      "[0 1 2 3 4 5 6 7 8]\n",
      "[1 2 3 4 5 6 7 8 9]\n"
     ]
    }
   ],
   "source": [
    "print(x)\n",
    "print(y)"
   ]
  },
  {
   "cell_type": "code",
   "execution_count": 4,
   "metadata": {},
   "outputs": [
    {
     "name": "stdout",
     "output_type": "stream",
     "text": [
      "(9,) (9,)\n"
     ]
    }
   ],
   "source": [
    "print(x.shape,y.shape)"
   ]
  },
  {
   "cell_type": "code",
   "execution_count": 5,
   "metadata": {},
   "outputs": [],
   "source": [
    "x = np.reshape(x,(9,1))"
   ]
  },
  {
   "cell_type": "code",
   "execution_count": 12,
   "metadata": {
    "inputHidden": false,
    "outputHidden": false
   },
   "outputs": [
    {
     "name": "stdout",
     "output_type": "stream",
     "text": [
      "(9, 1) (9,)\n"
     ]
    }
   ],
   "source": [
    "print(x.shape,y.shape)"
   ]
  },
  {
   "cell_type": "code",
   "execution_count": 15,
   "metadata": {
    "inputHidden": false,
    "outputHidden": false
   },
   "outputs": [],
   "source": [
    "x = np.reshape(x,(-1,1))"
   ]
  },
  {
   "cell_type": "code",
   "execution_count": 16,
   "metadata": {
    "inputHidden": false,
    "outputHidden": false
   },
   "outputs": [
    {
     "name": "stdout",
     "output_type": "stream",
     "text": [
      "(9, 1) (9,)\n"
     ]
    }
   ],
   "source": [
    "print(x.shape,y.shape)"
   ]
  },
  {
   "cell_type": "code",
   "execution_count": 17,
   "metadata": {},
   "outputs": [
    {
     "name": "stdout",
     "output_type": "stream",
     "text": [
      "x, y values= [[0]\n",
      " [1]\n",
      " [2]\n",
      " [3]\n",
      " [4]\n",
      " [5]\n",
      " [6]\n",
      " [7]\n",
      " [8]] [1 2 3 4 5 6 7 8 9]\n",
      "x, y shape= (9, 1) (9,)\n"
     ]
    }
   ],
   "source": [
    "print(\"x, y values=\",x,y)\n",
    "print(\"x, y shape=\",x.shape,y.shape)"
   ]
  },
  {
   "cell_type": "code",
   "execution_count": 18,
   "metadata": {},
   "outputs": [
    {
     "data": {
      "image/png": "[encoded data removed]",
      "text/plain": [
       "<Figure size 432x288 with 1 Axes>"
      ]
     },
     "metadata": {},
     "output_type": "display_data"
    }
   ],
   "source": [
    "plt.scatter(x,y)\n",
    "plt.grid()"
   ]
  },
  {
   "cell_type": "code",
   "execution_count": 19,
   "metadata": {},
   "outputs": [
    {
     "name": "stdout",
     "output_type": "stream",
     "text": [
      "predicted [1. 2. 3. 4. 5. 6. 7. 8. 9.]\n",
      "actual [1 2 3 4 5 6 7 8 9]\n"
     ]
    }
   ],
   "source": [
    "# MODEL CREATION\n",
    "from sklearn.linear_model import LinearRegression\n",
    "model = LinearRegression()\n",
    "\n",
    "# TRAINING\n",
    "model.fit(x,y) # x is 1st argument and y is 2nd argument\n",
    "\n",
    "# PREDICTION\n",
    "predicted=model.predict(x) # prediction on x to find predicted_y\n",
    "print(\"predicted\",predicted)\n",
    "print(\"actual\",y)"
   ]
  },
  {
   "cell_type": "code",
   "execution_count": 20,
   "metadata": {},
   "outputs": [
    {
     "name": "stdout",
     "output_type": "stream",
     "text": [
      "{'fit_intercept': True, 'normalize': False, 'copy_X': True, 'n_jobs': 1}\n",
      "{'fit_intercept': True, 'normalize': False, 'copy_X': True, 'n_jobs': 1, 'coef_': array([1.]), '_residues': 1.1947299393451176e-30, 'rank_': 1, 'singular_': array([7.74596669]), 'intercept_': 0.9999999999999991}\n"
     ]
    }
   ],
   "source": [
    "# WHAT HAPPENS UNDER THE HOOD IN TRAINING\n",
    "model = LinearRegression()\n",
    "print(vars(model))\n",
    "model.fit(x,y)\n",
    "print(vars(model))"
   ]
  },
  {
   "cell_type": "code",
   "execution_count": 21,
   "metadata": {},
   "outputs": [
    {
     "name": "stdout",
     "output_type": "stream",
     "text": [
      "[1.]\n",
      "0.9999999999999991\n",
      "1.1947299393451176e-30\n"
     ]
    }
   ],
   "source": [
    "print(model.coef_) # Slope of the liner line\n",
    "print(model.intercept_) # Intercept of the linear line\n",
    "print(model._residues) # Error"
   ]
  },
  {
   "cell_type": "code",
   "execution_count": 22,
   "metadata": {},
   "outputs": [
    {
     "data": {
      "text/plain": [
       "array([51.])"
      ]
     },
     "execution_count": 22,
     "metadata": {},
     "output_type": "execute_result"
    }
   ],
   "source": [
    "# Calling PREDICTION\n",
    "\n",
    "model.predict(50)"
   ]
  },
  {
   "cell_type": "code",
   "execution_count": 24,
   "metadata": {},
   "outputs": [
    {
     "ename": "TypeError",
     "evalue": "predict() takes 2 positional arguments but 3 were given",
     "output_type": "error",
     "traceback": [
      "\u001b[0;31m---------------------------------------------------------------------------\u001b[0m",
      "\u001b[0;31mTypeError\u001b[0m                                 Traceback (most recent call last)",
      "\u001b[0;32m<ipython-input-24-5583e58e8ac6>\u001b[0m in \u001b[0;36m<module>\u001b[0;34m()\u001b[0m\n\u001b[1;32m      1\u001b[0m \u001b[0;31m# Calling PREDICTION\u001b[0m\u001b[0;34m\u001b[0m\u001b[0;34m\u001b[0m\u001b[0m\n\u001b[1;32m      2\u001b[0m \u001b[0;34m\u001b[0m\u001b[0m\n\u001b[0;32m----> 3\u001b[0;31m \u001b[0mmodel\u001b[0m\u001b[0;34m.\u001b[0m\u001b[0mpredict\u001b[0m\u001b[0;34m(\u001b[0m\u001b[0;36m50\u001b[0m\u001b[0;34m,\u001b[0m\u001b[0;36m51\u001b[0m\u001b[0;34m)\u001b[0m\u001b[0;34m\u001b[0m\u001b[0m\n\u001b[0m",
      "\u001b[0;31mTypeError\u001b[0m: predict() takes 2 positional arguments but 3 were given"
     ]
    }
   ],
   "source": [
    "# Calling PREDICTION\n",
    "\n",
    "model.predict(50,51)"
   ]
  },
  {
   "cell_type": "code",
   "execution_count": 25,
   "metadata": {},
   "outputs": [
    {
     "data": {
      "text/plain": [
       "array([51., 52.])"
      ]
     },
     "execution_count": 25,
     "metadata": {},
     "output_type": "execute_result"
    }
   ],
   "source": [
    "# Calling PREDICTION\n",
    "\n",
    "model.predict([ [50] , [51] ])"
   ]
  },
  {
   "cell_type": "code",
   "execution_count": 26,
   "metadata": {},
   "outputs": [
    {
     "data": {
      "text/plain": [
       "array([51., 52.])"
      ]
     },
     "execution_count": 26,
     "metadata": {},
     "output_type": "execute_result"
    }
   ],
   "source": [
    "# Calling PREDICTION\n",
    "\n",
    "two_rows = np.reshape([50,51],(-1,1))\n",
    "model.predict(two_rows)"
   ]
  },
  {
   "cell_type": "markdown",
   "metadata": {},
   "source": [
    "## Regression on Noisy Data"
   ]
  },
  {
   "cell_type": "code",
   "execution_count": 27,
   "metadata": {},
   "outputs": [],
   "source": [
    "# Real data is alwasys noisy\n",
    "def create_linear_regression_data(points,slope,intercept,noise=False,noise_std=1):\n",
    "    x = [0]*points\n",
    "    y = [0]*points\n",
    "    if noise:\n",
    "        random_noise = np.random.random_integers(low=-noise_std,high = noise_std,size=points)\n",
    "    for i in range(0,points):\n",
    "        x[i]= i+intercept\n",
    "        y[i] = slope * float(x[i]) + intercept\n",
    "        if noise:\n",
    "            y[i] = y[i] + random_noise[i] # Noise is only in observation\n",
    "        \n",
    "    x = np.array(x)\n",
    "    x = np.reshape(x,(-1,1))\n",
    "    y = np.array(y)\n",
    "    return x,y"
   ]
  },
  {
   "cell_type": "code",
   "execution_count": 30,
   "metadata": {
    "inputHidden": false,
    "outputHidden": false
   },
   "outputs": [
    {
     "data": {
      "image/png": "[encoded data removed]",
      "text/plain": [
       "<Figure size 432x288 with 1 Axes>"
      ]
     },
     "metadata": {},
     "output_type": "display_data"
    }
   ],
   "source": [
    "x,y=create_linear_regression_data(points=15,slope=1,intercept=0)\n",
    "plt.scatter(x,y)\n",
    "plt.grid()"
   ]
  },
  {
   "cell_type": "code",
   "execution_count": null,
   "metadata": {},
   "outputs": [],
   "source": [
    "print(\"x, y values=\",x.tolist(),y)\n",
    "print(\"x, y shape= \",x.shape,y.shape)\n"
   ]
  },
  {
   "cell_type": "code",
   "execution_count": 39,
   "metadata": {},
   "outputs": [
    {
     "name": "stderr",
     "output_type": "stream",
     "text": [
      "/Users/ajinkyak/anaconda2/envs/py3/lib/python3.6/site-packages/ipykernel_launcher.py:6: DeprecationWarning: This function is deprecated. Please call randint(-505, 505 + 1) instead\n",
      "  \n"
     ]
    },
    {
     "data": {
      "image/png": "[encoded data removed]",
      "text/plain": [
       "<Figure size 432x288 with 1 Axes>"
      ]
     },
     "metadata": {},
     "output_type": "display_data"
    }
   ],
   "source": [
    "x,y=create_linear_regression_data(points=5000,slope=15,intercept=19,noise=True,noise_std=505)\n",
    "plt.scatter(x,y)\n",
    "plt.grid()"
   ]
  },
  {
   "cell_type": "code",
   "execution_count": 40,
   "metadata": {},
   "outputs": [
    {
     "name": "stdout",
     "output_type": "stream",
     "text": [
      "predicted\t\t [  310.25352394   325.25471052   340.25589711 ... 75271.18290289\n",
      " 75286.18408948 75301.18527606]\n",
      "actual (contains noise)\t [  578.  -105.  -101. ... 75311. 75500. 75580.]\n"
     ]
    }
   ],
   "source": [
    "model = LinearRegression()\n",
    "model.fit(x,y)\n",
    "predicted=model.predict(x)\n",
    "print(\"predicted\\t\\t\",predicted)\n",
    "print(\"actual (contains noise)\\t\",y)"
   ]
  },
  {
   "cell_type": "code",
   "execution_count": 41,
   "metadata": {
    "inputHidden": false,
    "outputHidden": false
   },
   "outputs": [
    {
     "data": {
      "text/plain": [
       "[<matplotlib.lines.Line2D at 0x10edbf860>]"
      ]
     },
     "execution_count": 41,
     "metadata": {},
     "output_type": "execute_result"
    },
    {
     "data": {
      "image/png": "[encoded data removed]",
      "text/plain": [
       "<Figure size 432x288 with 1 Axes>"
      ]
     },
     "metadata": {},
     "output_type": "display_data"
    }
   ],
   "source": [
    "# Plotting the model\n",
    "\n",
    "plt.scatter(x, y,  color='black')\n",
    "plt.plot(x, predicted, color='blue')"
   ]
  },
  {
   "cell_type": "code",
   "execution_count": 42,
   "metadata": {},
   "outputs": [
    {
     "name": "stdout",
     "output_type": "stream",
     "text": [
      "[15.00118659]\n",
      "25.230978768100613\n",
      "425765717.7513605\n"
     ]
    }
   ],
   "source": [
    "print(model.coef_) # Slope of the liner line\n",
    "print(model.intercept_) # Intercept of the linear line\n",
    "print(model._residues) # Error"
   ]
  },
  {
   "cell_type": "code",
   "execution_count": 45,
   "metadata": {},
   "outputs": [
    {
     "name": "stdout",
     "output_type": "stream",
     "text": [
      "Solving environment: / ^C\n",
      "failed\n",
      "\n",
      "CondaError: KeyboardInterrupt\n",
      "\n"
     ]
    }
   ],
   "source": [
    "!conda install mlxtend -c conda-forge -y"
   ]
  },
  {
   "cell_type": "code",
   "execution_count": 43,
   "metadata": {},
   "outputs": [
    {
     "ename": "ModuleNotFoundError",
     "evalue": "No module named 'mlxtend'",
     "output_type": "error",
     "traceback": [
      "\u001b[0;31m---------------------------------------------------------------------------\u001b[0m",
      "\u001b[0;31mModuleNotFoundError\u001b[0m                       Traceback (most recent call last)",
      "\u001b[0;32m<ipython-input-43-967afd5bcb41>\u001b[0m in \u001b[0;36m<module>\u001b[0;34m()\u001b[0m\n\u001b[1;32m      1\u001b[0m \u001b[0;31m# Plotting the model using mlxtend\u001b[0m\u001b[0;34m\u001b[0m\u001b[0;34m\u001b[0m\u001b[0m\n\u001b[1;32m      2\u001b[0m \u001b[0;31m# if mlxtend not found then install mlxtend by \" !conda install mlxtend -c conda-forge -y \"\u001b[0m\u001b[0;34m\u001b[0m\u001b[0;34m\u001b[0m\u001b[0m\n\u001b[0;32m----> 3\u001b[0;31m \u001b[0;32mfrom\u001b[0m \u001b[0mmlxtend\u001b[0m\u001b[0;34m.\u001b[0m\u001b[0mplotting\u001b[0m \u001b[0;32mimport\u001b[0m \u001b[0mplot_linear_regression\u001b[0m\u001b[0;34m\u001b[0m\u001b[0m\n\u001b[0m\u001b[1;32m      4\u001b[0m \u001b[0mplot_linear_regression\u001b[0m\u001b[0;34m(\u001b[0m\u001b[0mx\u001b[0m\u001b[0;34m,\u001b[0m \u001b[0my\u001b[0m\u001b[0;34m,\u001b[0m\u001b[0mmodel\u001b[0m \u001b[0;34m=\u001b[0m \u001b[0mmodel\u001b[0m\u001b[0;34m)\u001b[0m\u001b[0;34m\u001b[0m\u001b[0m\n\u001b[1;32m      5\u001b[0m \u001b[0mplt\u001b[0m\u001b[0;34m.\u001b[0m\u001b[0mgrid\u001b[0m\u001b[0;34m(\u001b[0m\u001b[0;34m)\u001b[0m\u001b[0;34m\u001b[0m\u001b[0m\n",
      "\u001b[0;31mModuleNotFoundError\u001b[0m: No module named 'mlxtend'"
     ]
    }
   ],
   "source": [
    "# Plotting the model using mlxtend\n",
    "# if mlxtend not found then install mlxtend by \" !conda install mlxtend -c conda-forge -y \"\n",
    "from mlxtend.plotting import plot_linear_regression\n",
    "plot_linear_regression(x, y,model = model)\n",
    "plt.grid()"
   ]
  },
  {
   "cell_type": "markdown",
   "metadata": {},
   "source": [
    "## Understanding regression as curve fitting\n",
    "\n",
    "- Extend the line and find y for corresponding x"
   ]
  },
  {
   "cell_type": "code",
   "execution_count": null,
   "metadata": {},
   "outputs": [],
   "source": [
    "model.predict(2.5) # NEW POINT"
   ]
  },
  {
   "cell_type": "code",
   "execution_count": null,
   "metadata": {},
   "outputs": [],
   "source": [
    "model.predict(2) # OLD POINTS"
   ]
  },
  {
   "cell_type": "markdown",
   "metadata": {},
   "source": [
    "## Accuracy of of Regression => Error"
   ]
  },
  {
   "cell_type": "code",
   "execution_count": 46,
   "metadata": {},
   "outputs": [
    {
     "name": "stdout",
     "output_type": "stream",
     "text": [
      "425765717.7513605\n"
     ]
    }
   ],
   "source": [
    "print(model._residues) # Error"
   ]
  },
  {
   "cell_type": "code",
   "execution_count": 47,
   "metadata": {},
   "outputs": [
    {
     "data": {
      "text/plain": [
       "0.999818401674436"
      ]
     },
     "execution_count": 47,
     "metadata": {},
     "output_type": "execute_result"
    }
   ],
   "source": [
    "# Model Accuracy\n",
    "\n",
    "from sklearn.metrics import r2_score\n",
    "r2_score(y,predicted)\n",
    "\n",
    "## Use r2_score because explicit is better than implicit"
   ]
  },
  {
   "cell_type": "code",
   "execution_count": 48,
   "metadata": {},
   "outputs": [
    {
     "data": {
      "text/plain": [
       "0.999818401674436"
      ]
     },
     "execution_count": 48,
     "metadata": {},
     "output_type": "execute_result"
    }
   ],
   "source": [
    "# Model Accuracy\n",
    "\n",
    "from sklearn.metrics import r2_score\n",
    "r2_score(y_true=y,y_pred=predicted)"
   ]
  },
  {
   "cell_type": "code",
   "execution_count": 49,
   "metadata": {},
   "outputs": [
    {
     "data": {
      "text/plain": [
       "85153.14355027206"
      ]
     },
     "execution_count": 49,
     "metadata": {},
     "output_type": "execute_result"
    }
   ],
   "source": [
    "# Model Error\n",
    "\n",
    "from sklearn.metrics import mean_squared_error\n",
    "mean_squared_error(y,predicted)"
   ]
  },
  {
   "cell_type": "code",
   "execution_count": null,
   "metadata": {},
   "outputs": [],
   "source": [
    "# Model Error\n",
    "\n",
    "from sklearn.metrics import mean_squared_error\n",
    "mean_squared_error(y_true=y,y_pred=predicted)"
   ]
  },
  {
   "cell_type": "code",
   "execution_count": 50,
   "metadata": {},
   "outputs": [
    {
     "data": {
      "text/plain": [
       "85153.14355027206"
      ]
     },
     "execution_count": 50,
     "metadata": {},
     "output_type": "execute_result"
    }
   ],
   "source": []
  },
  {
   "cell_type": "markdown",
   "metadata": {},
   "source": [
    "### Mock Test & Test\n",
    "- If final test is same as mock test, scores will be higher "
   ]
  },
  {
   "cell_type": "markdown",
   "metadata": {},
   "source": [
    "### Train Data & Test Data\n",
    "- If testing data is same as training data, accuracy will be higher & error will be lower"
   ]
  },
  {
   "cell_type": "code",
   "execution_count": 51,
   "metadata": {},
   "outputs": [
    {
     "name": "stdout",
     "output_type": "stream",
     "text": [
      "r2 score 0.9791512389122173\n",
      "mean squared error 17.02556531653165\n"
     ]
    },
    {
     "name": "stderr",
     "output_type": "stream",
     "text": [
      "/Users/ajinkyak/anaconda2/envs/py3/lib/python3.6/site-packages/ipykernel_launcher.py:6: DeprecationWarning: This function is deprecated. Please call randint(-7, 7 + 1) instead\n",
      "  \n"
     ]
    }
   ],
   "source": [
    "# Without train test split\n",
    "\n",
    "x,y=create_linear_regression_data(points=100,slope=1,intercept=0,noise=True,noise_std=7)\n",
    "\n",
    "model = LinearRegression()\n",
    "model.fit(x,y)\n",
    "\n",
    "predicted=model.predict(x)\n",
    "\n",
    "from sklearn.metrics import r2_score\n",
    "print(\"r2 score\",r2_score(y,predicted))\n",
    "from sklearn.metrics import mean_squared_error\n",
    "print(\"mean squared error\",mean_squared_error(y,predicted))"
   ]
  },
  {
   "cell_type": "code",
   "execution_count": 53,
   "metadata": {},
   "outputs": [
    {
     "name": "stdout",
     "output_type": "stream",
     "text": [
      "r2 score 0.989451830427691\n",
      "mean squared error 4.652164708171156\n"
     ]
    },
    {
     "name": "stderr",
     "output_type": "stream",
     "text": [
      "/Users/ajinkyak/anaconda2/envs/py3/lib/python3.6/site-packages/ipykernel_launcher.py:6: DeprecationWarning: This function is deprecated. Please call randint(-7, 7 + 1) instead\n",
      "  \n"
     ]
    },
    {
     "data": {
      "text/plain": [
       "{'fit_intercept': True,\n",
       " 'normalize': False,\n",
       " 'copy_X': True,\n",
       " 'n_jobs': 1,\n",
       " 'coef_': array([0.99301421]),\n",
       " '_residues': 1308.6402473452824,\n",
       " 'rank_': 1,\n",
       " 'singular_': array([277.56458708]),\n",
       " 'intercept_': 0.15697391426246554}"
      ]
     },
     "execution_count": 53,
     "metadata": {},
     "output_type": "execute_result"
    }
   ],
   "source": [
    "# With train test split\n",
    "\n",
    "x,y=create_linear_regression_data(points=100,slope=1,intercept=0,noise=True,noise_std=7)\n",
    "\n",
    "from sklearn.model_selection import train_test_split\n",
    "x_train, x_test, y_train, y_test = train_test_split(x, y, test_size=0.10, random_state=5)\n",
    "\n",
    "model = LinearRegression()\n",
    "model.fit(x_train,y_train)\n",
    "\n",
    "predicted=model.predict(x_test)\n",
    "from sklearn.metrics import r2_score\n",
    "print(\"r2 score\",r2_score(y_test,predicted))\n",
    "from sklearn.metrics import mean_squared_error\n",
    "print(\"mean squared error\",mean_squared_error(y_test,predicted))\n",
    "vars(model)"
   ]
  },
  {
   "cell_type": "code",
   "execution_count": 54,
   "metadata": {},
   "outputs": [
    {
     "name": "stderr",
     "output_type": "stream",
     "text": [
      "/Users/ajinkyak/anaconda2/envs/py3/lib/python3.6/site-packages/ipykernel_launcher.py:6: DeprecationWarning: This function is deprecated. Please call randint(-7, 7 + 1) instead\n",
      "  \n"
     ]
    }
   ],
   "source": [
    "# Understanding train and test split\n",
    "\n",
    "x,y=create_linear_regression_data(points=100,slope=1,intercept=0,noise=True,noise_std=7)\n",
    "\n",
    "from sklearn.model_selection import train_test_split\n",
    "x_train, x_test, y_train,y_test = train_test_split(x, y, test_size=0.10)"
   ]
  },
  {
   "cell_type": "code",
   "execution_count": 55,
   "metadata": {},
   "outputs": [
    {
     "name": "stdout",
     "output_type": "stream",
     "text": [
      "(100, 1) (100,)\n"
     ]
    }
   ],
   "source": [
    "print(x.shape,y.shape)"
   ]
  },
  {
   "cell_type": "code",
   "execution_count": 56,
   "metadata": {},
   "outputs": [
    {
     "name": "stdout",
     "output_type": "stream",
     "text": [
      "(90, 1) (10, 1) (90,) (10,)\n"
     ]
    }
   ],
   "source": [
    "# Understanding test_size\n",
    "\n",
    "print(x_train.shape,x_test.shape,y_train.shape,y_test.shape)"
   ]
  },
  {
   "cell_type": "code",
   "execution_count": 57,
   "metadata": {},
   "outputs": [
    {
     "name": "stdout",
     "output_type": "stream",
     "text": [
      "[[24], [80], [96], [48], [11]] [31. 79. 97. 50. 16.]\n"
     ]
    }
   ],
   "source": [
    "x_train, x_test, y_train,y_test = train_test_split(x, y, test_size=0.10)\n",
    "\n",
    "print(x_train[:5].tolist(),y_train[:5])"
   ]
  },
  {
   "cell_type": "code",
   "execution_count": 58,
   "metadata": {},
   "outputs": [
    {
     "name": "stdout",
     "output_type": "stream",
     "text": [
      "[[26], [36], [22], [52], [56]] [27. 38. 20. 56. 56.]\n"
     ]
    }
   ],
   "source": [
    "x_train, x_test, y_train,y_test = train_test_split(x, y, test_size=0.10)\n",
    "\n",
    "print(x_train[:5].tolist(),y_train[:5])"
   ]
  },
  {
   "cell_type": "code",
   "execution_count": 59,
   "metadata": {},
   "outputs": [
    {
     "name": "stdout",
     "output_type": "stream",
     "text": [
      "[[97], [37], [70], [40], [60]] [100.  32.  77.  47.  53.]\n"
     ]
    }
   ],
   "source": [
    "# Understanding random_state\n",
    "x_train, x_test, y_train, y_test = train_test_split(x, y, test_size=0.10, random_state=5)\n",
    "print(x_train[:5].tolist(),y_train[:5])"
   ]
  },
  {
   "cell_type": "code",
   "execution_count": 61,
   "metadata": {},
   "outputs": [
    {
     "name": "stdout",
     "output_type": "stream",
     "text": [
      "[[97], [37], [70], [40], [60]] [100.  32.  77.  47.  53.]\n"
     ]
    }
   ],
   "source": [
    "x_train, x_test, y_train, y_test = train_test_split(x, y, test_size=0.10, random_state=5)\n",
    "print(x_train[:5].tolist(),y_train[:5])"
   ]
  },
  {
   "cell_type": "markdown",
   "metadata": {},
   "source": [
    "## Train & Test split to avoid overfitting\n",
    "- Overfitting = Remembering the training\n",
    "- When final test contains same questions as practise test, everyone will score high.\n",
    "- To check actual performance, we need different questions for final test.\n",
    "- Same for machine learning Algorithm\n",
    "- Create training data just for training, testing data just for testing"
   ]
  },
  {
   "cell_type": "code",
   "execution_count": 97,
   "metadata": {},
   "outputs": [],
   "source": [
    "# Sample Data Generator\n",
    "from sklearn.datasets.samples_generator import make_regression\n",
    "\n",
    "x,y = make_regression(n_samples=10000, n_features=10, noise=10,random_state=0)"
   ]
  },
  {
   "cell_type": "code",
   "execution_count": 98,
   "metadata": {
    "inputHidden": false,
    "outputHidden": false
   },
   "outputs": [
    {
     "name": "stdout",
     "output_type": "stream",
     "text": [
      "(10000, 10) (10000,)\n"
     ]
    }
   ],
   "source": [
    "print(x.shape,y.shape)"
   ]
  },
  {
   "cell_type": "code",
   "execution_count": 99,
   "metadata": {
    "inputHidden": false,
    "outputHidden": false
   },
   "outputs": [
    {
     "data": {
      "text/plain": [
       "array([[-1.13821436, -0.42291035, -0.96469356, ..., -0.32786441,\n",
       "         0.49647227,  0.15313318],\n",
       "       [ 0.28431452,  0.22246316, -1.2406246 , ...,  0.06749226,\n",
       "        -0.08837552,  0.09837791],\n",
       "       [-0.56980221, -1.79810139,  0.28836209, ...,  0.48025188,\n",
       "        -1.51336979,  0.62168709],\n",
       "       ...,\n",
       "       [-0.09628461, -0.34363263,  0.13704679, ..., -0.08851534,\n",
       "        -1.70194007,  1.36453843],\n",
       "       [-0.02250954,  0.27555391,  0.42024749, ..., -0.16190684,\n",
       "         0.30630247, -0.1489594 ],\n",
       "       [-0.12655798,  0.28920686,  0.96408653, ..., -0.36629325,\n",
       "         0.22815338,  0.18889664]])"
      ]
     },
     "execution_count": 99,
     "metadata": {},
     "output_type": "execute_result"
    }
   ],
   "source": [
    "x"
   ]
  },
  {
   "cell_type": "code",
   "execution_count": 100,
   "metadata": {},
   "outputs": [
    {
     "data": {
      "image/png": "[encoded data removed]",
      "text/plain": [
       "<Figure size 432x288 with 1 Axes>"
      ]
     },
     "metadata": {},
     "output_type": "display_data"
    }
   ],
   "source": [
    "plt.scatter(x[:,0],y)\n",
    "plt.grid()"
   ]
  },
  {
   "cell_type": "code",
   "execution_count": 101,
   "metadata": {},
   "outputs": [
    {
     "name": "stdout",
     "output_type": "stream",
     "text": [
      "r2 score 0.9959799993920853\n",
      "mean squared error 100.1128052521377\n"
     ]
    }
   ],
   "source": [
    "# Complete with 10 features\n",
    "\n",
    "from sklearn.linear_model import LinearRegression\n",
    "from sklearn.model_selection import train_test_split\n",
    "from sklearn.datasets.samples_generator import make_regression\n",
    "\n",
    "\n",
    "#x,y = make_regression(n_samples=10000, n_features=10, noise=10,random_state=0)\n",
    "x_train, x_test, y_train, y_test = train_test_split(x, y, test_size=0.10, random_state=0)\n",
    "\n",
    "model = LinearRegression()\n",
    "\n",
    "model.fit(x_train,y_train)\n",
    "\n",
    "predicted=model.predict(x_test)\n",
    "\n",
    "from sklearn.metrics import r2_score\n",
    "print(\"r2 score\",r2_score(y_test,predicted))\n",
    "from sklearn.metrics import mean_squared_error\n",
    "print(\"mean squared error\",mean_squared_error(y_test,predicted))"
   ]
  },
  {
   "cell_type": "code",
   "execution_count": 102,
   "metadata": {},
   "outputs": [
    {
     "data": {
      "text/plain": [
       "{'fit_intercept': True,\n",
       " 'normalize': False,\n",
       " 'copy_X': True,\n",
       " 'n_jobs': 1,\n",
       " 'coef_': array([19.90377844, 91.08284742, 38.99020286, 19.4225956 , 22.89767894,\n",
       "        79.23423869, 22.97306558, 14.4493147 , 85.91179228,  8.88560537]),\n",
       " '_residues': 900573.9085386895,\n",
       " 'rank_': 10,\n",
       " 'singular_': array([96.8425067 , 96.51553737, 95.7825493 , 95.29987395, 94.66629804,\n",
       "        94.44829327, 93.81405425, 93.64872014, 92.31782654, 91.91176124]),\n",
       " 'intercept_': 0.0791751739573141}"
      ]
     },
     "execution_count": 102,
     "metadata": {},
     "output_type": "execute_result"
    }
   ],
   "source": [
    "vars(model)"
   ]
  },
  {
   "cell_type": "code",
   "execution_count": 78,
   "metadata": {},
   "outputs": [
    {
     "name": "stdout",
     "output_type": "stream",
     "text": [
      "r2 score 0.9988448306336747\n",
      "mean squared error 23.01890679756361\n"
     ]
    },
    {
     "ename": "ModuleNotFoundError",
     "evalue": "No module named 'mlxtend'",
     "output_type": "error",
     "traceback": [
      "\u001b[0;31m---------------------------------------------------------------------------\u001b[0m",
      "\u001b[0;31mModuleNotFoundError\u001b[0m                       Traceback (most recent call last)",
      "\u001b[0;32m<ipython-input-78-feedc2cb4d88>\u001b[0m in \u001b[0;36m<module>\u001b[0;34m()\u001b[0m\n\u001b[1;32m     21\u001b[0m \u001b[0;34m\u001b[0m\u001b[0m\n\u001b[1;32m     22\u001b[0m \u001b[0;34m\u001b[0m\u001b[0m\n\u001b[0;32m---> 23\u001b[0;31m \u001b[0;32mfrom\u001b[0m \u001b[0mmlxtend\u001b[0m\u001b[0;34m.\u001b[0m\u001b[0mplotting\u001b[0m \u001b[0;32mimport\u001b[0m \u001b[0mplot_linear_regression\u001b[0m\u001b[0;34m\u001b[0m\u001b[0m\n\u001b[0m\u001b[1;32m     24\u001b[0m \u001b[0;34m\u001b[0m\u001b[0m\n\u001b[1;32m     25\u001b[0m \u001b[0;32mfor\u001b[0m \u001b[0mi\u001b[0m \u001b[0;32min\u001b[0m \u001b[0mrange\u001b[0m\u001b[0;34m(\u001b[0m\u001b[0;36m0\u001b[0m\u001b[0;34m,\u001b[0m\u001b[0mx\u001b[0m\u001b[0;34m.\u001b[0m\u001b[0mshape\u001b[0m\u001b[0;34m[\u001b[0m\u001b[0;36m1\u001b[0m\u001b[0;34m]\u001b[0m\u001b[0;34m)\u001b[0m\u001b[0;34m:\u001b[0m\u001b[0;34m\u001b[0m\u001b[0m\n",
      "\u001b[0;31mModuleNotFoundError\u001b[0m: No module named 'mlxtend'"
     ]
    }
   ],
   "source": [
    "from mlxtend.plotting import plot_linear_regression\n",
    "\n",
    "for i in range(0,x.shape[1]):\n",
    "    plt.figure()\n",
    "    plot_linear_regression(x[:,i], y,model = model)\n",
    "    plt.grid()"
   ]
  },
  {
   "cell_type": "markdown",
   "metadata": {},
   "source": [
    "## Statsmodel"
   ]
  },
  {
   "cell_type": "code",
   "execution_count": 107,
   "metadata": {},
   "outputs": [
    {
     "name": "stdout",
     "output_type": "stream",
     "text": [
      "                            OLS Regression Results                            \n",
      "==============================================================================\n",
      "Dep. Variable:                      y   R-squared:                       1.000\n",
      "Model:                            OLS   Adj. R-squared:                  1.000\n",
      "Method:                 Least Squares   F-statistic:                 2.392e+32\n",
      "Date:                Sun, 24 Jun 2018   Prob (F-statistic):          4.93e-220\n",
      "Time:                        17:05:12   Log-Likelihood:                 486.47\n",
      "No. Observations:                  15   AIC:                            -970.9\n",
      "Df Residuals:                      14   BIC:                            -970.2\n",
      "Df Model:                           1                                         \n",
      "Covariance Type:            nonrobust                                         \n",
      "==============================================================================\n",
      "                 coef    std err          t      P>|t|      [0.025      0.975]\n",
      "------------------------------------------------------------------------------\n",
      "x1             1.0000   6.47e-17   1.55e+16      0.000       1.000       1.000\n",
      "==============================================================================\n",
      "Omnibus:                        1.089   Durbin-Watson:                   0.071\n",
      "Prob(Omnibus):                  0.580   Jarque-Bera (JB):                0.947\n",
      "Skew:                          -0.498   Prob(JB):                        0.623\n",
      "Kurtosis:                       2.277   Cond. No.                         1.00\n",
      "==============================================================================\n",
      "\n",
      "Warnings:\n",
      "[1] Standard Errors assume that the covariance matrix of the errors is correctly specified.\n"
     ]
    },
    {
     "name": "stderr",
     "output_type": "stream",
     "text": [
      "/Users/ajinkyak/anaconda2/envs/py3/lib/python3.6/site-packages/scipy/stats/stats.py:1390: UserWarning: kurtosistest only valid for n>=20 ... continuing anyway, n=15\n",
      "  \"anyway, n=%i\" % int(n))\n"
     ]
    }
   ],
   "source": [
    "import statsmodels.api as sm\n",
    "\n",
    "x,y=create_linear_regression_data(15,1,0)\n",
    "\n",
    "model = sm.OLS(y, x) # Note the swap of x and y\n",
    "# sm.OLS(x=x, y=y)\n",
    "results = model.fit()\n",
    "print(results.summary())"
   ]
  },
  {
   "cell_type": "code",
   "execution_count": 108,
   "metadata": {},
   "outputs": [
    {
     "name": "stdout",
     "output_type": "stream",
     "text": [
      "                            OLS Regression Results                            \n",
      "==============================================================================\n",
      "Dep. Variable:                      y   R-squared:                       1.000\n",
      "Model:                            OLS   Adj. R-squared:                  1.000\n",
      "Method:                 Least Squares   F-statistic:                 1.098e+32\n",
      "Date:                Sun, 24 Jun 2018   Prob (F-statistic):          2.06e-202\n",
      "Time:                        17:05:35   Log-Likelihood:                 490.85\n",
      "No. Observations:                  15   AIC:                            -977.7\n",
      "Df Residuals:                      13   BIC:                            -976.3\n",
      "Df Model:                           1                                         \n",
      "Covariance Type:            nonrobust                                         \n",
      "==============================================================================\n",
      "                 coef    std err          t      P>|t|      [0.025      0.975]\n",
      "------------------------------------------------------------------------------\n",
      "const      -2.387e-15   7.85e-16     -3.040      0.009   -4.08e-15   -6.91e-16\n",
      "x1             1.0000   9.54e-17   1.05e+16      0.000       1.000       1.000\n",
      "==============================================================================\n",
      "Omnibus:                        1.593   Durbin-Watson:                   0.164\n",
      "Prob(Omnibus):                  0.451   Jarque-Bera (JB):                1.266\n",
      "Skew:                          -0.566   Prob(JB):                        0.531\n",
      "Kurtosis:                       2.137   Cond. No.                         15.8\n",
      "==============================================================================\n",
      "\n",
      "Warnings:\n",
      "[1] Standard Errors assume that the covariance matrix of the errors is correctly specified.\n"
     ]
    },
    {
     "name": "stderr",
     "output_type": "stream",
     "text": [
      "/Users/ajinkyak/anaconda2/envs/py3/lib/python3.6/site-packages/scipy/stats/stats.py:1390: UserWarning: kurtosistest only valid for n>=20 ... continuing anyway, n=15\n",
      "  \"anyway, n=%i\" % int(n))\n"
     ]
    }
   ],
   "source": [
    "import statsmodels.api as sm\n",
    "\n",
    "x,y=create_linear_regression_data(15,1,0)\n",
    "x = sm.add_constant(x)\n",
    "\n",
    "model = sm.OLS(y, x) # Note the swap of x and y\n",
    "# sm.OLS(x=x, y=y)\n",
    "results = model.fit()\n",
    "print(results.summary())"
   ]
  },
  {
   "cell_type": "code",
   "execution_count": 109,
   "metadata": {},
   "outputs": [
    {
     "data": {
      "text/plain": [
       "{'_results': <statsmodels.regression.linear_model.OLSResults at 0x1c1a6690b8>,\n",
       " '__doc__': '\\n    Results class for for an OLS model.\\n\\n    Most of the methods and attributes are inherited from RegressionResults.\\n    The special methods that are only available for OLS are:\\n\\n    - get_influence\\n    - outlier_test\\n    - el_test\\n    - conf_int_el\\n\\n    See Also\\n    --------\\n    RegressionResults\\n\\n    '}"
      ]
     },
     "execution_count": 109,
     "metadata": {},
     "output_type": "execute_result"
    }
   ],
   "source": [
    "vars(results)"
   ]
  },
  {
   "cell_type": "code",
   "execution_count": 106,
   "metadata": {},
   "outputs": [
    {
     "data": {
      "text/plain": [
       "{'params': array([-2.3869795e-15,  1.0000000e+00]),\n",
       " 'model': <statsmodels.regression.linear_model.OLS at 0x1c1a64b390>,\n",
       " 'k_constant': 1,\n",
       " '_data_attr': [],\n",
       " 'normalized_cov_params': array([[ 0.24166667, -0.025     ],\n",
       "        [-0.025     ,  0.00357143]]),\n",
       " '_cache': {'wresid': array([ 2.38697950e-15,  2.22044605e-15,  1.99840144e-15,  1.33226763e-15,\n",
       "          1.33226763e-15,  1.77635684e-15,  8.88178420e-16,  8.88178420e-16,\n",
       "          8.88178420e-16,  0.00000000e+00,  0.00000000e+00,  0.00000000e+00,\n",
       "         -1.77635684e-15, -1.77635684e-15, -1.77635684e-15]),\n",
       "  'eigenvals': array([1025.9060579,    4.0939421]),\n",
       "  'condition_number': 15.830074148053722,\n",
       "  'ssr': 3.315989141048167e-29,\n",
       "  'centered_tss': 280.0,\n",
       "  'rsquared': 1.0,\n",
       "  'nobs': 15.0,\n",
       "  'rsquared_adj': 1.0,\n",
       "  'ess': 280.0,\n",
       "  'mse_model': 280.0,\n",
       "  'mse_resid': 2.5507608777293592e-30,\n",
       "  'fvalue': 1.0977116767184028e+32,\n",
       "  'f_pvalue': 2.0610223039254935e-202,\n",
       "  'llf': 490.8478865172492,\n",
       "  'aic': -977.6957730344984,\n",
       "  'bic': -976.279672632294,\n",
       "  'scale': 2.5507608777293592e-30,\n",
       "  'bse': array([7.85133033e-16, 9.54455880e-17]),\n",
       "  'tvalues': array([-3.04022300e+00,  1.04771736e+16]),\n",
       "  'pvalues': array([9.47658238e-003, 2.06102230e-202])},\n",
       " '_wexog_singular_values': array([32.02976831,  2.02334923]),\n",
       " 'df_model': 1.0,\n",
       " 'df_resid': 13.0,\n",
       " 'cov_type': 'nonrobust',\n",
       " 'cov_kwds': {'description': 'Standard Errors assume that the covariance matrix of the errors is correctly specified.'},\n",
       " 'use_t': True,\n",
       " 'diagn': {'jb': 1.2660327922892072,\n",
       "  'jbpv': 0.5309877136494046,\n",
       "  'skew': -0.5659751859918355,\n",
       "  'kurtosis': 2.137248110388183,\n",
       "  'omni': 1.5931781915973424,\n",
       "  'omnipv': 0.4508641989497336,\n",
       "  'condno': 15.830074148053722,\n",
       "  'mineigval': 4.093942098941245}}"
      ]
     },
     "execution_count": 106,
     "metadata": {},
     "output_type": "execute_result"
    }
   ],
   "source": [
    "vars(results._results)"
   ]
  },
  {
   "cell_type": "markdown",
   "metadata": {},
   "source": [
    "**StatsModel**\n",
    "- More like R\n",
    "- Limited functionality, Regression and Time Series Analysis only\n",
    "\n",
    "**Scikit-learn**\n",
    "- Uniform API, Easy to use algorithms, Good documentation & Sensible Defaults\n",
    "- Focused on CS aspect\n",
    "- Complete functionality. Majority of algorithms implemented\n",
    "\n",
    "\n",
    "**R**\n",
    "- API is not uniform, different packages have different syntax, scattered or sparse documentation\n",
    "- Better statistical analysis\n",
    "- Complete functionality. All possible algorithms available via individual packages"
   ]
  }
 ],
 "metadata": {
  "anaconda-cloud": {},
  "kernel_info": {
   "name": "python3"
  },
  "kernelspec": {
   "display_name": "Python 3",
   "language": "python",
   "name": "python3"
  },
  "language_info": {
   "codemirror_mode": {
    "name": "ipython",
    "version": 3
   },
   "file_extension": ".py",
   "mimetype": "text/x-python",
   "name": "python",
   "nbconvert_exporter": "python",
   "pygments_lexer": "ipython3",
   "version": "3.6.5"
  },
  "nteract": {
   "version": "0.4.3"
  },
  "varInspector": {
   "cols": {
    "lenName": 16,
    "lenType": 16,
    "lenVar": 40
   },
   "kernels_config": {
    "python": {
     "delete_cmd_postfix": "",
     "delete_cmd_prefix": "del ",
     "library": "var_list.py",
     "varRefreshCmd": "print(var_dic_list())"
    },
    "r": {
     "delete_cmd_postfix": ") ",
     "delete_cmd_prefix": "rm(",
     "library": "var_list.r",
     "varRefreshCmd": "cat(var_dic_list()) "
    }
   },
   "types_to_exclude": [
    "module",
    "function",
    "builtin_function_or_method",
    "instance",
    "_Feature"
   ],
   "window_display": false
  }
 },
 "nbformat": 4,
 "nbformat_minor": 2
}
