{
 "cells": [
  {
   "cell_type": "markdown",
   "metadata": {
    "colab_type": "text",
    "id": "tkDQQ6A19MWc"
   },
   "source": [
    "# Feature Engineering"
   ]
  },
  {
   "cell_type": "markdown",
   "metadata": {
    "colab_type": "text",
    "id": "sWwkAfUG-ptr"
   },
   "source": [
    "Feature engineering is one of the most important skills needed in data science and machine learning. It has a major influence on the performance of machine learning models"
   ]
  },
  {
   "cell_type": "markdown",
   "metadata": {
    "colab_type": "text",
    "deletable": true,
    "editable": true,
    "id": "X88ywo219MWf"
   },
   "source": [
    "## Categorical Features\n",
    "\n",
    "One of most common non-numerical data is *categorical* data. For example, considering different cars models which has no of seats, company name, etc.\n",
    ".\n",
    "For example, your data might look something like this:"
   ]
  },
  {
   "cell_type": "code",
   "execution_count": null,
   "metadata": {
    "colab": {},
    "colab_type": "code",
    "deletable": true,
    "editable": true,
    "id": "VzBYtdvW9MWg"
   },
   "outputs": [],
   "source": [
    "data = [\n",
    "    {'price': 950000, 'seat': 6, 'company': 'BMW'},\n",
    "    {'price': 600000, 'seat': 8, 'company': 'Volvo'},\n",
    "    {'price': 680000, 'seat': 4, 'company': 'Toyota'},\n",
    "    {'price': 550000, 'seat': 2, 'company': 'Honda'}\n",
    "]"
   ]
  },
  {
   "cell_type": "markdown",
   "metadata": {
    "colab_type": "text",
    "deletable": true,
    "editable": true,
    "id": "joe6mupg9MWm"
   },
   "source": [
    "A first attmept to encode the company name in such type of data with a straightforward numerical mapping:"
   ]
  },
  {
   "cell_type": "code",
   "execution_count": null,
   "metadata": {
    "colab": {},
    "colab_type": "code",
    "deletable": true,
    "editable": true,
    "id": "z3w-SCi_9MWn"
   },
   "outputs": [],
   "source": [
    "{'BMW': 1, 'Volvo': 2, 'Toyota': 3, 'Honda': 4};"
   ]
  },
  {
   "cell_type": "markdown",
   "metadata": {
    "colab_type": "text",
    "deletable": true,
    "editable": true,
    "id": "LM5UjByS9MWs"
   },
   "source": [
    "This adhoc encoding turns out to be diaster since associated numercial values would be interpreated by ML model as numercial feature where:\n",
    "BMW < Volvo < Toyota < Honda\n",
    "But we are sure these are neither the company tranking notr anything but just names of companies.\n",
    "In this case, one proven method would be one-hot encoding, which effectively represents the encoding using value of 1 or 0. May create creates extra columns indicating the presence or absence of a category but de-associate the issues discussed above.\n",
    "In Scikit-Learn's ``DictVectorizer`` would be the choice:"
   ]
  },
  {
   "cell_type": "code",
   "execution_count": null,
   "metadata": {
    "colab": {
     "base_uri": "https://localhost:8080/",
     "height": 87
    },
    "colab_type": "code",
    "deletable": true,
    "editable": true,
    "id": "5qNGpfKN9MWt",
    "outputId": "38e1820d-5d26-4eaa-c8ff-50dc8ca3e74f"
   },
   "outputs": [
    {
     "data": {
      "text/plain": [
       "array([[     1,      0,      0,      0, 950000,      6],\n",
       "       [     0,      0,      0,      1, 600000,      8],\n",
       "       [     0,      0,      1,      0, 680000,      4],\n",
       "       [     0,      1,      0,      0, 550000,      2]])"
      ]
     },
     "execution_count": 3,
     "metadata": {
      "tags": []
     },
     "output_type": "execute_result"
    }
   ],
   "source": [
    "from sklearn.feature_extraction import DictVectorizer\n",
    "vec = DictVectorizer(sparse=False, dtype=int)\n",
    "vec.fit_transform(data)"
   ]
  },
  {
   "cell_type": "markdown",
   "metadata": {
    "colab_type": "text",
    "deletable": true,
    "editable": true,
    "id": "BdjkGGY29MW0"
   },
   "source": [
    "Notice that company name column splited into four column one hot encoding.\n",
    "\n",
    "To see the meaning of each column, you can inspect the feature names:"
   ]
  },
  {
   "cell_type": "code",
   "execution_count": null,
   "metadata": {
    "colab": {
     "base_uri": "https://localhost:8080/",
     "height": 123
    },
    "colab_type": "code",
    "deletable": true,
    "editable": true,
    "id": "Z3UO4Zky9MW1",
    "outputId": "52d5bb6d-9810-4e86-e272-584b006be4f8"
   },
   "outputs": [
    {
     "data": {
      "text/plain": [
       "['company=BMW',\n",
       " 'company=Honda',\n",
       " 'company=Toyota',\n",
       " 'company=Volvo',\n",
       " 'price',\n",
       " 'seat']"
      ]
     },
     "execution_count": 5,
     "metadata": {
      "tags": []
     },
     "output_type": "execute_result"
    }
   ],
   "source": [
    "vec.get_feature_names()"
   ]
  },
  {
   "cell_type": "markdown",
   "metadata": {
    "colab_type": "text",
    "deletable": true,
    "editable": true,
    "id": "TssXI9eS9MXU"
   },
   "source": [
    "## Derived Features\n",
    "\n",
    "Another useful type of feature is one that is mathematically derived from some input features.\n",
    "\n",
    "Lets see a example where convert a linear regression into a polynomial regression not by changing the model, but by transforming the input!\n",
    "\n",
    "For example, this data clearly cannot be well described by a straight line:"
   ]
  },
  {
   "cell_type": "code",
   "execution_count": null,
   "metadata": {
    "colab": {
     "base_uri": "https://localhost:8080/",
     "height": 264
    },
    "colab_type": "code",
    "deletable": true,
    "editable": true,
    "id": "7MVvuUAY9MXU",
    "outputId": "64264773-b3f1-4077-8c5d-b1510bf2410a"
   },
   "outputs": [
    {
     "data": {
      "image/png": "[encoded data removed]",
      "text/plain": [
       "<Figure size 432x288 with 1 Axes>"
      ]
     },
     "metadata": {
      "needs_background": "light",
      "tags": []
     },
     "output_type": "display_data"
    }
   ],
   "source": [
    "%matplotlib inline\n",
    "import numpy as np\n",
    "import matplotlib.pyplot as plt\n",
    "\n",
    "x = np.array([1, 2, 3, 4, 5, 6, 7])\n",
    "y = np.array([4, 2, 1, 3, 7, 9, 12])\n",
    "plt.scatter(x, y);"
   ]
  },
  {
   "cell_type": "markdown",
   "metadata": {
    "colab_type": "text",
    "deletable": true,
    "editable": true,
    "id": "UDlME-JI9MXX"
   },
   "source": [
    "what if we  fit a line to the data using ``LinearRegression`` and get the optimal result:"
   ]
  },
  {
   "cell_type": "code",
   "execution_count": null,
   "metadata": {
    "colab": {
     "base_uri": "https://localhost:8080/",
     "height": 264
    },
    "colab_type": "code",
    "deletable": true,
    "editable": true,
    "id": "CV1Y2oMg9MXY",
    "outputId": "aa374e67-bf36-4fab-aa04-c2a0b4b3a781"
   },
   "outputs": [
    {
     "data": {
      "image/png": "[encoded data removed]",
      "text/plain": [
       "<Figure size 432x288 with 1 Axes>"
      ]
     },
     "metadata": {
      "needs_background": "light",
      "tags": []
     },
     "output_type": "display_data"
    }
   ],
   "source": [
    "from sklearn.linear_model import LinearRegression\n",
    "X = x[:, np.newaxis]\n",
    "model = LinearRegression().fit(X, y)\n",
    "yfit = model.predict(X)\n",
    "plt.scatter(x, y)\n",
    "plt.plot(x, yfit);"
   ]
  },
  {
   "cell_type": "markdown",
   "metadata": {
    "colab_type": "text",
    "deletable": true,
    "editable": true,
    "id": "ObuZWMeY9MXb"
   },
   "source": [
    "It seems that we need a more complex model to describe the relationship between $x$ and $y$ being not linear.\n",
    "\n",
    "One approach is to transform the data, adding extra columns of features to provide flexibility in the model. Lets create dervived features\n"
   ]
  },
  {
   "cell_type": "code",
   "execution_count": null,
   "metadata": {
    "colab": {
     "base_uri": "https://localhost:8080/",
     "height": 141
    },
    "colab_type": "code",
    "deletable": true,
    "editable": true,
    "id": "m2Myvo2_9MXc",
    "outputId": "e7a82d21-344e-4722-f9dc-72ce98a0e95d"
   },
   "outputs": [
    {
     "name": "stdout",
     "output_type": "stream",
     "text": [
      "[[  1.   1.   1.]\n",
      " [  2.   4.   8.]\n",
      " [  3.   9.  27.]\n",
      " [  4.  16.  64.]\n",
      " [  5.  25. 125.]\n",
      " [  6.  36. 216.]\n",
      " [  7.  49. 343.]]\n"
     ]
    }
   ],
   "source": [
    "from sklearn.preprocessing import PolynomialFeatures\n",
    "poly = PolynomialFeatures(degree=3, include_bias=False)\n",
    "X2 = poly.fit_transform(X)\n",
    "print(X2)"
   ]
  },
  {
   "cell_type": "markdown",
   "metadata": {
    "colab_type": "text",
    "deletable": true,
    "editable": true,
    "id": "GmPCsD6K9MXf"
   },
   "source": [
    "The derived feature matrix has one column representing $x$, and a second column representing $x^2$, and a third column representing $x^3$.\n",
    "Computing a linear regression on this expanded input gives a much closer fit to the data:"
   ]
  },
  {
   "cell_type": "code",
   "execution_count": null,
   "metadata": {
    "colab": {
     "base_uri": "https://localhost:8080/",
     "height": 264
    },
    "colab_type": "code",
    "deletable": true,
    "editable": true,
    "id": "RTd8lL2X9MXf",
    "outputId": "cccf8e23-d4c3-467c-a177-b54af42db55d"
   },
   "outputs": [
    {
     "data": {
      "image/png": "[encoded data removed]",
      "text/plain": [
       "<Figure size 432x288 with 1 Axes>"
      ]
     },
     "metadata": {
      "needs_background": "light",
      "tags": []
     },
     "output_type": "display_data"
    }
   ],
   "source": [
    "model = LinearRegression().fit(X2, y)\n",
    "yfit = model.predict(X2)\n",
    "plt.scatter(x, y)\n",
    "plt.plot(x, yfit);"
   ]
  },
  {
   "cell_type": "markdown",
   "metadata": {
    "colab_type": "text",
    "deletable": true,
    "editable": true,
    "id": "5VpOOhPs9MXi"
   },
   "source": [
    "This idea of improving a model not by changing the model, but by transforming the inputs, is fundamental to many of the more powerful machine learning methods."
   ]
  },
  {
   "cell_type": "markdown",
   "metadata": {
    "colab_type": "text",
    "deletable": true,
    "editable": true,
    "id": "gE95YB1k9MXj"
   },
   "source": [
    "## Imputation of Missing Data\n",
    "\n",
    "Another common need in feature engineering is handling of missing data.\n",
    "For example, we might have a dataset that looks like this:"
   ]
  },
  {
   "cell_type": "code",
   "execution_count": null,
   "metadata": {
    "colab": {},
    "colab_type": "code",
    "deletable": true,
    "editable": true,
    "id": "jdJ-CRIf9MXj"
   },
   "outputs": [],
   "source": [
    "from numpy import nan\n",
    "X = np.array([[ nan, 2,   7  ],\n",
    "              [ 3,   7,   6  ],\n",
    "              [ 5,   3,   2  ],\n",
    "              [ 4,   nan, 6  ],\n",
    "              [ 8,   8,   1  ],\n",
    "              [ 11,   6,   nan]])\n",
    "y = np.array([14, 16, -1,  8, -5, 7])"
   ]
  },
  {
   "cell_type": "markdown",
   "metadata": {
    "colab_type": "text",
    "deletable": true,
    "editable": true,
    "id": "cCTXpDqV9MXm"
   },
   "source": [
    "Before applying machine learning model to such data, we will need to first replace such missing data with some appropriate fill value.\n",
    "We need to impute on missing values, and strategies range from simplely replacing missing values with the mean of the column) to more detailed  using matrix completion, etc.\n",
    "\n",
    "For a baseline imputation approach, using the mean, median, like that, Scikit-Learn provides the ``Imputer`` class:"
   ]
  },
  {
   "cell_type": "code",
   "execution_count": null,
   "metadata": {
    "colab": {
     "base_uri": "https://localhost:8080/",
     "height": 123
    },
    "colab_type": "code",
    "deletable": true,
    "editable": true,
    "id": "e9UFgP4z9MXn",
    "outputId": "20e564c9-6f13-48c1-d27a-4bd7ca29c4d8"
   },
   "outputs": [
    {
     "name": "stdout",
     "output_type": "stream",
     "text": [
      "[[ 6.2  2.   7. ]\n",
      " [ 3.   7.   6. ]\n",
      " [ 5.   3.   2. ]\n",
      " [ 4.   5.2  6. ]\n",
      " [ 8.   8.   1. ]\n",
      " [11.   6.   4.4]]\n"
     ]
    }
   ],
   "source": [
    "from sklearn.impute import SimpleImputer\n",
    "impute = SimpleImputer(missing_values=np.nan, strategy='mean')\n",
    "impute.fit(X)\n",
    "X2=impute.transform(X)\n",
    "print(X2)"
   ]
  },
  {
   "cell_type": "markdown",
   "metadata": {
    "colab_type": "text",
    "deletable": true,
    "editable": true,
    "id": "GLOaRiNb9MXr"
   },
   "source": [
    "We see that in the resulting data, the two missing values have been replaced with the mean of the remaining values in the column. This imputed data can then be fed directly into, for example, a ``LinearRegression`` estimator:"
   ]
  },
  {
   "cell_type": "code",
   "execution_count": null,
   "metadata": {
    "colab": {
     "base_uri": "https://localhost:8080/",
     "height": 52
    },
    "colab_type": "code",
    "deletable": true,
    "editable": true,
    "id": "ACH1rM5z9MXr",
    "outputId": "4f5f34cf-7ed9-4f3b-8b0d-8fa40e3a743e"
   },
   "outputs": [
    {
     "data": {
      "text/plain": [
       "array([13.81705288, 12.94102295, -2.1126057 , 12.09043166, -3.86914161,\n",
       "        6.13323982])"
      ]
     },
     "execution_count": 23,
     "metadata": {
      "tags": []
     },
     "output_type": "execute_result"
    }
   ],
   "source": [
    "model = LinearRegression().fit(X2, y)\n",
    "model.predict(X2)"
   ]
  },
  {
   "cell_type": "markdown",
   "metadata": {
    "colab_type": "text",
    "deletable": true,
    "editable": true,
    "id": "QCryoZtM9MXx"
   },
   "source": [
    "## Feature Pipelines\n",
    "\n",
    "Applying multiple feature engineering techniques may lead improvision but case challenging implementtion.\n",
    "As for example:\n",
    "\n",
    "1. Impute missing values using the mean\n",
    "2. Transform features to quadratic\n",
    "3. Fit a linear regression\n",
    "\n",
    "To streamline this type of processing pipeline, Scikit-Learn provides a ``Pipeline`` object"
   ]
  },
  {
   "cell_type": "code",
   "execution_count": null,
   "metadata": {
    "colab": {},
    "colab_type": "code",
    "deletable": true,
    "editable": true,
    "id": "iUQoN9ZT9MXx"
   },
   "outputs": [],
   "source": [
    "from sklearn.pipeline import make_pipeline\n",
    "\n",
    "model = make_pipeline(SimpleImputer(missing_values=np.nan, strategy='mean'),\n",
    "                      PolynomialFeatures(degree=2),\n",
    "                      LinearRegression())"
   ]
  },
  {
   "cell_type": "markdown",
   "metadata": {
    "colab_type": "text",
    "deletable": true,
    "editable": true,
    "id": "vBHCehbV9MX1"
   },
   "source": [
    "This pipeline looks and acts like a standard Scikit-Learn object, and will apply all the specified steps to any input data."
   ]
  },
  {
   "cell_type": "code",
   "execution_count": null,
   "metadata": {
    "colab": {
     "base_uri": "https://localhost:8080/",
     "height": 52
    },
    "colab_type": "code",
    "deletable": true,
    "editable": true,
    "id": "v-aw4fjf9MX1",
    "outputId": "72efdaf2-21d4-480d-e779-97de1aa8ca7d"
   },
   "outputs": [
    {
     "name": "stdout",
     "output_type": "stream",
     "text": [
      "[14 16 -1  8 -5  7]\n",
      "[14. 16. -1.  8. -5.  7.]\n"
     ]
    }
   ],
   "source": [
    "model.fit(X, y)  # X with missing values, from above\n",
    "print(y)\n",
    "print(model.predict(X))"
   ]
  },
  {
   "cell_type": "code",
   "execution_count": null,
   "metadata": {},
   "outputs": [],
   "source": [
    "from sklearn.decomposition import PCA as sklearnPCA\n",
    "sklearn_pca = sklearnPCA(n_components=2) # reduce dimension from 3 to 2\n",
    "Y_sklearn = sklearn_pca.fit_transform(x)"
   ]
  }
 ],
 "metadata": {
  "anaconda-cloud": {},
  "colab": {
   "collapsed_sections": [],
   "name": "Feature_Engineering.ipynb",
   "provenance": []
  },
  "environment": {
   "name": "common-cpu.m46",
   "type": "gcloud",
   "uri": "gcr.io/deeplearning-platform-release/base-cpu:m46"
  },
  "kernelspec": {
   "display_name": "Python 3",
   "language": "python",
   "name": "python3"
  },
  "language_info": {
   "codemirror_mode": {
    "name": "ipython",
    "version": 3
   },
   "file_extension": ".py",
   "mimetype": "text/x-python",
   "name": "python",
   "nbconvert_exporter": "python",
   "pygments_lexer": "ipython3",
   "version": "3.7.6"
  }
 },
 "nbformat": 4,
 "nbformat_minor": 4
}
