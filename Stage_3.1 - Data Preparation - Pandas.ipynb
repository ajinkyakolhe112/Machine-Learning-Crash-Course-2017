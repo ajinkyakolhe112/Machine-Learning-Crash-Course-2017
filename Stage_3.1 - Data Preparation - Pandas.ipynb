{
  "nbformat": 4,
  "nbformat_minor": 0,
  "metadata": {
    "colab": {
      "name": "Pandas complete.ipynb",
      "provenance": [],
      "collapsed_sections": []
    },
    "kernelspec": {
      "name": "python3",
      "display_name": "Python 3"
    }
  },
  "cells": [
    {
      "cell_type": "markdown",
      "metadata": {
        "id": "1VOeBIHaDgxR",
        "colab_type": "text"
      },
      "source": [
        "**Series**\n"
      ]
    },
    {
      "cell_type": "markdown",
      "metadata": {
        "id": "CzysXE5HDqKF",
        "colab_type": "text"
      },
      "source": [
        "Series = an array of data with an array of indices\n"
      ]
    },
    {
      "cell_type": "code",
      "metadata": {
        "id": "1A3Lim04Dajo",
        "colab_type": "code",
        "outputId": "a96e9faa-cb6c-4d2d-ba71-279efafdc80c",
        "colab": {
          "base_uri": "https://localhost:8080/",
          "height": 101
        }
      },
      "source": [
        "import pandas as pd\n",
        "series1 = pd.Series([1,3,-5,6])\n",
        "series1"
      ],
      "execution_count": 0,
      "outputs": [
        {
          "output_type": "execute_result",
          "data": {
            "text/plain": [
              "0    1\n",
              "1    3\n",
              "2   -5\n",
              "3    6\n",
              "dtype: int64"
            ]
          },
          "metadata": {
            "tags": []
          },
          "execution_count": 5
        }
      ]
    },
    {
      "cell_type": "code",
      "metadata": {
        "id": "vv6myERUDihK",
        "colab_type": "code",
        "outputId": "7ef3dcdb-a3cb-4c17-8103-d5ba6c6f8188",
        "colab": {
          "base_uri": "https://localhost:8080/",
          "height": 34
        }
      },
      "source": [
        "series1.values"
      ],
      "execution_count": 0,
      "outputs": [
        {
          "output_type": "execute_result",
          "data": {
            "text/plain": [
              "array([ 1,  3, -5,  6])"
            ]
          },
          "metadata": {
            "tags": []
          },
          "execution_count": 6
        }
      ]
    },
    {
      "cell_type": "code",
      "metadata": {
        "id": "NIx7WBktDw1B",
        "colab_type": "code",
        "outputId": "a40129ce-7513-4984-d495-69bdc475dcc0",
        "colab": {
          "base_uri": "https://localhost:8080/",
          "height": 34
        }
      },
      "source": [
        "series1.index"
      ],
      "execution_count": 0,
      "outputs": [
        {
          "output_type": "execute_result",
          "data": {
            "text/plain": [
              "RangeIndex(start=0, stop=4, step=1)"
            ]
          },
          "metadata": {
            "tags": []
          },
          "execution_count": 7
        }
      ]
    },
    {
      "cell_type": "markdown",
      "metadata": {
        "id": "9aMfUwnhEBK0",
        "colab_type": "text"
      },
      "source": [
        "**Series Indices**"
      ]
    },
    {
      "cell_type": "markdown",
      "metadata": {
        "id": "iTNMYbUvEH8I",
        "colab_type": "text"
      },
      "source": [
        "Default indices are 0,1,2,3,…\n",
        "However indices may be specified"
      ]
    },
    {
      "cell_type": "code",
      "metadata": {
        "id": "vhXxblN3DyhI",
        "colab_type": "code",
        "outputId": "b5a0d818-b448-4188-d183-3358cbbebc78",
        "colab": {
          "base_uri": "https://localhost:8080/",
          "height": 101
        }
      },
      "source": [
        "series2=pd.Series([13,15,17,19],index=[\"apple\",\"orange\",\"banana\",\"mango\"])\n",
        "series2"
      ],
      "execution_count": 0,
      "outputs": [
        {
          "output_type": "execute_result",
          "data": {
            "text/plain": [
              "apple     13\n",
              "orange    15\n",
              "banana    17\n",
              "mango     19\n",
              "dtype: int64"
            ]
          },
          "metadata": {
            "tags": []
          },
          "execution_count": 9
        }
      ]
    },
    {
      "cell_type": "markdown",
      "metadata": {
        "id": "Q-lWvEVNEjsg",
        "colab_type": "text"
      },
      "source": [
        "**Accessing Series Elements**"
      ]
    },
    {
      "cell_type": "markdown",
      "metadata": {
        "id": "8by5jeTPEhoV",
        "colab_type": "text"
      },
      "source": [
        "We can access single or subset of indices"
      ]
    },
    {
      "cell_type": "code",
      "metadata": {
        "id": "4B7pmPMYENul",
        "colab_type": "code",
        "colab": {}
      },
      "source": [
        "series2['apple']=11"
      ],
      "execution_count": 0,
      "outputs": []
    },
    {
      "cell_type": "code",
      "metadata": {
        "id": "WYLXiiMxEhCE",
        "colab_type": "code",
        "outputId": "11cfc9de-0838-4e54-e141-0f11443cdc8f",
        "colab": {
          "base_uri": "https://localhost:8080/",
          "height": 67
        }
      },
      "source": [
        "series2[['apple','mango']]"
      ],
      "execution_count": 0,
      "outputs": [
        {
          "output_type": "execute_result",
          "data": {
            "text/plain": [
              "apple    11\n",
              "mango    19\n",
              "dtype: int64"
            ]
          },
          "metadata": {
            "tags": []
          },
          "execution_count": 11
        }
      ]
    },
    {
      "cell_type": "markdown",
      "metadata": {
        "id": "LppM_1_UFZPu",
        "colab_type": "text"
      },
      "source": [
        "**Array operations: filtering**"
      ]
    },
    {
      "cell_type": "markdown",
      "metadata": {
        "id": "BtKjWf5OFcVf",
        "colab_type": "text"
      },
      "source": [
        "Conditional Selection"
      ]
    },
    {
      "cell_type": "code",
      "metadata": {
        "id": "DXywuZgxEo_t",
        "colab_type": "code",
        "outputId": "63de8ab6-9286-41f9-a552-d31b93a0be10",
        "colab": {
          "base_uri": "https://localhost:8080/",
          "height": 84
        }
      },
      "source": [
        "series2[series2 > 12]"
      ],
      "execution_count": 0,
      "outputs": [
        {
          "output_type": "execute_result",
          "data": {
            "text/plain": [
              "orange    15\n",
              "banana    17\n",
              "mango     19\n",
              "dtype: int64"
            ]
          },
          "metadata": {
            "tags": []
          },
          "execution_count": 12
        }
      ]
    },
    {
      "cell_type": "markdown",
      "metadata": {
        "id": "K_Wgrjm0Ff1p",
        "colab_type": "text"
      },
      "source": [
        "Scalar Multiplication"
      ]
    },
    {
      "cell_type": "code",
      "metadata": {
        "id": "0CkqJ5mHFdzc",
        "colab_type": "code",
        "outputId": "2e6fb0ef-6869-4431-c51c-7a3b36056f44",
        "colab": {
          "base_uri": "https://localhost:8080/",
          "height": 101
        }
      },
      "source": [
        "series2/2"
      ],
      "execution_count": 0,
      "outputs": [
        {
          "output_type": "execute_result",
          "data": {
            "text/plain": [
              "apple     5.5\n",
              "orange    7.5\n",
              "banana    8.5\n",
              "mango     9.5\n",
              "dtype: float64"
            ]
          },
          "metadata": {
            "tags": []
          },
          "execution_count": 13
        }
      ]
    },
    {
      "cell_type": "markdown",
      "metadata": {
        "id": "NIhxw070F1Tp",
        "colab_type": "text"
      },
      "source": [
        "**Data Frames**"
      ]
    },
    {
      "cell_type": "code",
      "metadata": {
        "id": "Eze89qtqFnLb",
        "colab_type": "code",
        "colab": {}
      },
      "source": [
        "dictStudent ={'Name': ['Ramesh', 'Vineet', 'Kunal', 'Neha', 'Subham'], 'ID': [141, 220, 555, 637, 212], 'CGPA': [7.8, 8.3, 9.5, 8.9, 9.1]}\n",
        "studentFrame = pd.DataFrame(dictStudent)"
      ],
      "execution_count": 0,
      "outputs": []
    },
    {
      "cell_type": "code",
      "metadata": {
        "id": "KcyyQdMbHdoG",
        "colab_type": "code",
        "outputId": "7b7c3ed5-ade6-4c46-b833-027a6cf5d1c0",
        "colab": {
          "base_uri": "https://localhost:8080/",
          "height": 195
        }
      },
      "source": [
        "studentFrame"
      ],
      "execution_count": 0,
      "outputs": [
        {
          "output_type": "execute_result",
          "data": {
            "text/html": [
              "<div>\n",
              "<style scoped>\n",
              "    .dataframe tbody tr th:only-of-type {\n",
              "        vertical-align: middle;\n",
              "    }\n",
              "\n",
              "    .dataframe tbody tr th {\n",
              "        vertical-align: top;\n",
              "    }\n",
              "\n",
              "    .dataframe thead th {\n",
              "        text-align: right;\n",
              "    }\n",
              "</style>\n",
              "<table border=\"1\" class=\"dataframe\">\n",
              "  <thead>\n",
              "    <tr style=\"text-align: right;\">\n",
              "      <th></th>\n",
              "      <th>Name</th>\n",
              "      <th>ID</th>\n",
              "      <th>CGPA</th>\n",
              "    </tr>\n",
              "  </thead>\n",
              "  <tbody>\n",
              "    <tr>\n",
              "      <th>0</th>\n",
              "      <td>Ramesh</td>\n",
              "      <td>141</td>\n",
              "      <td>7.8</td>\n",
              "    </tr>\n",
              "    <tr>\n",
              "      <th>1</th>\n",
              "      <td>Vineet</td>\n",
              "      <td>220</td>\n",
              "      <td>8.3</td>\n",
              "    </tr>\n",
              "    <tr>\n",
              "      <th>2</th>\n",
              "      <td>Kunal</td>\n",
              "      <td>555</td>\n",
              "      <td>9.5</td>\n",
              "    </tr>\n",
              "    <tr>\n",
              "      <th>3</th>\n",
              "      <td>Neha</td>\n",
              "      <td>637</td>\n",
              "      <td>8.9</td>\n",
              "    </tr>\n",
              "    <tr>\n",
              "      <th>4</th>\n",
              "      <td>Subham</td>\n",
              "      <td>212</td>\n",
              "      <td>9.1</td>\n",
              "    </tr>\n",
              "  </tbody>\n",
              "</table>\n",
              "</div>"
            ],
            "text/plain": [
              "     Name   ID  CGPA\n",
              "0  Ramesh  141   7.8\n",
              "1  Vineet  220   8.3\n",
              "2   Kunal  555   9.5\n",
              "3    Neha  637   8.9\n",
              "4  Subham  212   9.1"
            ]
          },
          "metadata": {
            "tags": []
          },
          "execution_count": 21
        }
      ]
    },
    {
      "cell_type": "markdown",
      "metadata": {
        "id": "0E8oHJa0IAo_",
        "colab_type": "text"
      },
      "source": [
        "Can rename the rows"
      ]
    },
    {
      "cell_type": "code",
      "metadata": {
        "id": "MxRw4H0uH5-F",
        "colab_type": "code",
        "colab": {}
      },
      "source": [
        "studentFrame = pd.DataFrame(dictStudent, columns=['Name', 'ID', 'CGPA'], index=['row1','row2','row3','row4','row5'])"
      ],
      "execution_count": 0,
      "outputs": []
    },
    {
      "cell_type": "code",
      "metadata": {
        "id": "utz_-iaMIFy3",
        "colab_type": "code",
        "outputId": "1f3f2c6b-78e0-47b2-cb1c-7fd0e335bcb7",
        "colab": {
          "base_uri": "https://localhost:8080/",
          "height": 195
        }
      },
      "source": [
        "studentFrame"
      ],
      "execution_count": 0,
      "outputs": [
        {
          "output_type": "execute_result",
          "data": {
            "text/html": [
              "<div>\n",
              "<style scoped>\n",
              "    .dataframe tbody tr th:only-of-type {\n",
              "        vertical-align: middle;\n",
              "    }\n",
              "\n",
              "    .dataframe tbody tr th {\n",
              "        vertical-align: top;\n",
              "    }\n",
              "\n",
              "    .dataframe thead th {\n",
              "        text-align: right;\n",
              "    }\n",
              "</style>\n",
              "<table border=\"1\" class=\"dataframe\">\n",
              "  <thead>\n",
              "    <tr style=\"text-align: right;\">\n",
              "      <th></th>\n",
              "      <th>Name</th>\n",
              "      <th>ID</th>\n",
              "      <th>CGPA</th>\n",
              "    </tr>\n",
              "  </thead>\n",
              "  <tbody>\n",
              "    <tr>\n",
              "      <th>row1</th>\n",
              "      <td>Ramesh</td>\n",
              "      <td>141</td>\n",
              "      <td>7.8</td>\n",
              "    </tr>\n",
              "    <tr>\n",
              "      <th>row2</th>\n",
              "      <td>Vineet</td>\n",
              "      <td>220</td>\n",
              "      <td>8.3</td>\n",
              "    </tr>\n",
              "    <tr>\n",
              "      <th>row3</th>\n",
              "      <td>Kunal</td>\n",
              "      <td>555</td>\n",
              "      <td>9.5</td>\n",
              "    </tr>\n",
              "    <tr>\n",
              "      <th>row4</th>\n",
              "      <td>Neha</td>\n",
              "      <td>637</td>\n",
              "      <td>8.9</td>\n",
              "    </tr>\n",
              "    <tr>\n",
              "      <th>row5</th>\n",
              "      <td>Subham</td>\n",
              "      <td>212</td>\n",
              "      <td>9.1</td>\n",
              "    </tr>\n",
              "  </tbody>\n",
              "</table>\n",
              "</div>"
            ],
            "text/plain": [
              "        Name   ID  CGPA\n",
              "row1  Ramesh  141   7.8\n",
              "row2  Vineet  220   8.3\n",
              "row3   Kunal  555   9.5\n",
              "row4    Neha  637   8.9\n",
              "row5  Subham  212   9.1"
            ]
          },
          "metadata": {
            "tags": []
          },
          "execution_count": 24
        }
      ]
    },
    {
      "cell_type": "markdown",
      "metadata": {
        "id": "5HjAQhiMITcE",
        "colab_type": "text"
      },
      "source": [
        "Empty DataFrame"
      ]
    },
    {
      "cell_type": "code",
      "metadata": {
        "id": "dLE-FYXgIQep",
        "colab_type": "code",
        "outputId": "09d22f76-ad37-4520-ad51-63e542d8e584",
        "colab": {
          "base_uri": "https://localhost:8080/",
          "height": 31
        }
      },
      "source": [
        "stud2=pd.DataFrame()\n",
        "stud2"
      ],
      "execution_count": 0,
      "outputs": [
        {
          "output_type": "execute_result",
          "data": {
            "text/html": [
              "<div>\n",
              "<style scoped>\n",
              "    .dataframe tbody tr th:only-of-type {\n",
              "        vertical-align: middle;\n",
              "    }\n",
              "\n",
              "    .dataframe tbody tr th {\n",
              "        vertical-align: top;\n",
              "    }\n",
              "\n",
              "    .dataframe thead th {\n",
              "        text-align: right;\n",
              "    }\n",
              "</style>\n",
              "<table border=\"1\" class=\"dataframe\">\n",
              "  <thead>\n",
              "    <tr style=\"text-align: right;\">\n",
              "      <th></th>\n",
              "    </tr>\n",
              "  </thead>\n",
              "  <tbody>\n",
              "  </tbody>\n",
              "</table>\n",
              "</div>"
            ],
            "text/plain": [
              "Empty DataFrame\n",
              "Columns: []\n",
              "Index: []"
            ]
          },
          "metadata": {
            "tags": []
          },
          "execution_count": 25
        }
      ]
    },
    {
      "cell_type": "markdown",
      "metadata": {
        "id": "ds_A9N3GIeuh",
        "colab_type": "text"
      },
      "source": [
        "Absent Columns"
      ]
    },
    {
      "cell_type": "code",
      "metadata": {
        "id": "xqOvdRtoIWC8",
        "colab_type": "code",
        "outputId": "e4040373-46ca-40ea-bb0a-e863b37630e8",
        "colab": {
          "base_uri": "https://localhost:8080/",
          "height": 195
        }
      },
      "source": [
        "studentFrame = pd.DataFrame(dictStudent, columns=['Name', 'ID','Major','CGPA'])\n",
        "studentFrame"
      ],
      "execution_count": 0,
      "outputs": [
        {
          "output_type": "execute_result",
          "data": {
            "text/html": [
              "<div>\n",
              "<style scoped>\n",
              "    .dataframe tbody tr th:only-of-type {\n",
              "        vertical-align: middle;\n",
              "    }\n",
              "\n",
              "    .dataframe tbody tr th {\n",
              "        vertical-align: top;\n",
              "    }\n",
              "\n",
              "    .dataframe thead th {\n",
              "        text-align: right;\n",
              "    }\n",
              "</style>\n",
              "<table border=\"1\" class=\"dataframe\">\n",
              "  <thead>\n",
              "    <tr style=\"text-align: right;\">\n",
              "      <th></th>\n",
              "      <th>Name</th>\n",
              "      <th>ID</th>\n",
              "      <th>Major</th>\n",
              "      <th>CGPA</th>\n",
              "    </tr>\n",
              "  </thead>\n",
              "  <tbody>\n",
              "    <tr>\n",
              "      <th>0</th>\n",
              "      <td>Ramesh</td>\n",
              "      <td>141</td>\n",
              "      <td>NaN</td>\n",
              "      <td>7.8</td>\n",
              "    </tr>\n",
              "    <tr>\n",
              "      <th>1</th>\n",
              "      <td>Vineet</td>\n",
              "      <td>220</td>\n",
              "      <td>NaN</td>\n",
              "      <td>8.3</td>\n",
              "    </tr>\n",
              "    <tr>\n",
              "      <th>2</th>\n",
              "      <td>Kunal</td>\n",
              "      <td>555</td>\n",
              "      <td>NaN</td>\n",
              "      <td>9.5</td>\n",
              "    </tr>\n",
              "    <tr>\n",
              "      <th>3</th>\n",
              "      <td>Neha</td>\n",
              "      <td>637</td>\n",
              "      <td>NaN</td>\n",
              "      <td>8.9</td>\n",
              "    </tr>\n",
              "    <tr>\n",
              "      <th>4</th>\n",
              "      <td>Subham</td>\n",
              "      <td>212</td>\n",
              "      <td>NaN</td>\n",
              "      <td>9.1</td>\n",
              "    </tr>\n",
              "  </tbody>\n",
              "</table>\n",
              "</div>"
            ],
            "text/plain": [
              "     Name   ID Major  CGPA\n",
              "0  Ramesh  141   NaN   7.8\n",
              "1  Vineet  220   NaN   8.3\n",
              "2   Kunal  555   NaN   9.5\n",
              "3    Neha  637   NaN   8.9\n",
              "4  Subham  212   NaN   9.1"
            ]
          },
          "metadata": {
            "tags": []
          },
          "execution_count": 26
        }
      ]
    },
    {
      "cell_type": "markdown",
      "metadata": {
        "id": "WVpXK-8hIrdv",
        "colab_type": "text"
      },
      "source": [
        "Retrieving Columns"
      ]
    },
    {
      "cell_type": "code",
      "metadata": {
        "id": "RJuQPfjtInl0",
        "colab_type": "code",
        "outputId": "ddbf6487-2064-4337-de56-350948a6e002",
        "colab": {
          "base_uri": "https://localhost:8080/",
          "height": 118
        }
      },
      "source": [
        "studentFrame.ID"
      ],
      "execution_count": 0,
      "outputs": [
        {
          "output_type": "execute_result",
          "data": {
            "text/plain": [
              "0    141\n",
              "1    220\n",
              "2    555\n",
              "3    637\n",
              "4    212\n",
              "Name: ID, dtype: int64"
            ]
          },
          "metadata": {
            "tags": []
          },
          "execution_count": 27
        }
      ]
    },
    {
      "cell_type": "code",
      "metadata": {
        "id": "RMXgSD4oIueO",
        "colab_type": "code",
        "outputId": "34b2fae6-0211-4434-86ae-9cd4520c5456",
        "colab": {
          "base_uri": "https://localhost:8080/",
          "height": 118
        }
      },
      "source": [
        "studentFrame['ID']"
      ],
      "execution_count": 0,
      "outputs": [
        {
          "output_type": "execute_result",
          "data": {
            "text/plain": [
              "0    141\n",
              "1    220\n",
              "2    555\n",
              "3    637\n",
              "4    212\n",
              "Name: ID, dtype: int64"
            ]
          },
          "metadata": {
            "tags": []
          },
          "execution_count": 29
        }
      ]
    },
    {
      "cell_type": "markdown",
      "metadata": {
        "id": "0MdhLotcIySV",
        "colab_type": "text"
      },
      "source": [
        "Retrieving Rows"
      ]
    },
    {
      "cell_type": "code",
      "metadata": {
        "id": "SaoD6BO0I24X",
        "colab_type": "code",
        "outputId": "d370e2ee-1508-4f09-a871-f7ce05298157",
        "colab": {
          "base_uri": "https://localhost:8080/",
          "height": 101
        }
      },
      "source": [
        "studentFrame.iloc[0]"
      ],
      "execution_count": 0,
      "outputs": [
        {
          "output_type": "execute_result",
          "data": {
            "text/plain": [
              "Name     Ramesh\n",
              "ID          141\n",
              "Major       NaN\n",
              "CGPA        7.8\n",
              "Name: 0, dtype: object"
            ]
          },
          "metadata": {
            "tags": []
          },
          "execution_count": 32
        }
      ]
    },
    {
      "cell_type": "markdown",
      "metadata": {
        "id": "-7F7D3ZOJCzk",
        "colab_type": "text"
      },
      "source": [
        "or ==> studentFrame.loc['row1']"
      ]
    },
    {
      "cell_type": "markdown",
      "metadata": {
        "id": "YSljFh6PJLQv",
        "colab_type": "text"
      },
      "source": [
        "**Assigning Columns**"
      ]
    },
    {
      "cell_type": "code",
      "metadata": {
        "id": "xqkaQnEeI5SN",
        "colab_type": "code",
        "colab": {}
      },
      "source": [
        "students={'Name':['A','B','C','D','E'],'ID':[199,299,399,499,599],'CGPA':[9.3,9.2,9.1,8.9,9.5]}"
      ],
      "execution_count": 0,
      "outputs": []
    },
    {
      "cell_type": "code",
      "metadata": {
        "id": "1sOccbAZJPJw",
        "colab_type": "code",
        "colab": {}
      },
      "source": [
        "studFrame=pd.DataFrame(students,columns=['Name','ID','CGPA'])"
      ],
      "execution_count": 0,
      "outputs": []
    },
    {
      "cell_type": "code",
      "metadata": {
        "id": "Hj3rbBUNJTap",
        "colab_type": "code",
        "outputId": "2c83b6dc-085d-4fa7-ad42-bd9bef7b9220",
        "colab": {
          "base_uri": "https://localhost:8080/",
          "height": 195
        }
      },
      "source": [
        "studFrame"
      ],
      "execution_count": 0,
      "outputs": [
        {
          "output_type": "execute_result",
          "data": {
            "text/html": [
              "<div>\n",
              "<style scoped>\n",
              "    .dataframe tbody tr th:only-of-type {\n",
              "        vertical-align: middle;\n",
              "    }\n",
              "\n",
              "    .dataframe tbody tr th {\n",
              "        vertical-align: top;\n",
              "    }\n",
              "\n",
              "    .dataframe thead th {\n",
              "        text-align: right;\n",
              "    }\n",
              "</style>\n",
              "<table border=\"1\" class=\"dataframe\">\n",
              "  <thead>\n",
              "    <tr style=\"text-align: right;\">\n",
              "      <th></th>\n",
              "      <th>Name</th>\n",
              "      <th>ID</th>\n",
              "      <th>CGPA</th>\n",
              "    </tr>\n",
              "  </thead>\n",
              "  <tbody>\n",
              "    <tr>\n",
              "      <th>0</th>\n",
              "      <td>A</td>\n",
              "      <td>199</td>\n",
              "      <td>9.3</td>\n",
              "    </tr>\n",
              "    <tr>\n",
              "      <th>1</th>\n",
              "      <td>B</td>\n",
              "      <td>299</td>\n",
              "      <td>9.2</td>\n",
              "    </tr>\n",
              "    <tr>\n",
              "      <th>2</th>\n",
              "      <td>C</td>\n",
              "      <td>399</td>\n",
              "      <td>9.1</td>\n",
              "    </tr>\n",
              "    <tr>\n",
              "      <th>3</th>\n",
              "      <td>D</td>\n",
              "      <td>499</td>\n",
              "      <td>8.9</td>\n",
              "    </tr>\n",
              "    <tr>\n",
              "      <th>4</th>\n",
              "      <td>E</td>\n",
              "      <td>599</td>\n",
              "      <td>9.5</td>\n",
              "    </tr>\n",
              "  </tbody>\n",
              "</table>\n",
              "</div>"
            ],
            "text/plain": [
              "  Name   ID  CGPA\n",
              "0    A  199   9.3\n",
              "1    B  299   9.2\n",
              "2    C  399   9.1\n",
              "3    D  499   8.9\n",
              "4    E  599   9.5"
            ]
          },
          "metadata": {
            "tags": []
          },
          "execution_count": 36
        }
      ]
    },
    {
      "cell_type": "code",
      "metadata": {
        "id": "2Kg1pJsZJVIl",
        "colab_type": "code",
        "outputId": "42897790-23b5-44bc-f5e1-5673af7920c7",
        "colab": {
          "base_uri": "https://localhost:8080/",
          "height": 195
        }
      },
      "source": [
        "studFrame['CGPA']=10\n",
        "studFrame"
      ],
      "execution_count": 0,
      "outputs": [
        {
          "output_type": "execute_result",
          "data": {
            "text/html": [
              "<div>\n",
              "<style scoped>\n",
              "    .dataframe tbody tr th:only-of-type {\n",
              "        vertical-align: middle;\n",
              "    }\n",
              "\n",
              "    .dataframe tbody tr th {\n",
              "        vertical-align: top;\n",
              "    }\n",
              "\n",
              "    .dataframe thead th {\n",
              "        text-align: right;\n",
              "    }\n",
              "</style>\n",
              "<table border=\"1\" class=\"dataframe\">\n",
              "  <thead>\n",
              "    <tr style=\"text-align: right;\">\n",
              "      <th></th>\n",
              "      <th>Name</th>\n",
              "      <th>ID</th>\n",
              "      <th>CGPA</th>\n",
              "    </tr>\n",
              "  </thead>\n",
              "  <tbody>\n",
              "    <tr>\n",
              "      <th>0</th>\n",
              "      <td>A</td>\n",
              "      <td>199</td>\n",
              "      <td>10</td>\n",
              "    </tr>\n",
              "    <tr>\n",
              "      <th>1</th>\n",
              "      <td>B</td>\n",
              "      <td>299</td>\n",
              "      <td>10</td>\n",
              "    </tr>\n",
              "    <tr>\n",
              "      <th>2</th>\n",
              "      <td>C</td>\n",
              "      <td>399</td>\n",
              "      <td>10</td>\n",
              "    </tr>\n",
              "    <tr>\n",
              "      <th>3</th>\n",
              "      <td>D</td>\n",
              "      <td>499</td>\n",
              "      <td>10</td>\n",
              "    </tr>\n",
              "    <tr>\n",
              "      <th>4</th>\n",
              "      <td>E</td>\n",
              "      <td>599</td>\n",
              "      <td>10</td>\n",
              "    </tr>\n",
              "  </tbody>\n",
              "</table>\n",
              "</div>"
            ],
            "text/plain": [
              "  Name   ID  CGPA\n",
              "0    A  199    10\n",
              "1    B  299    10\n",
              "2    C  399    10\n",
              "3    D  499    10\n",
              "4    E  599    10"
            ]
          },
          "metadata": {
            "tags": []
          },
          "execution_count": 37
        }
      ]
    },
    {
      "cell_type": "code",
      "metadata": {
        "id": "kAUELNPBJZ7S",
        "colab_type": "code",
        "outputId": "444e918c-4f1e-4e65-eda1-1b2c5e577215",
        "colab": {
          "base_uri": "https://localhost:8080/",
          "height": 195
        }
      },
      "source": [
        "import numpy as np\n",
        "studFrame['CGPA']=np.arange(5)+5\n",
        "studFrame"
      ],
      "execution_count": 0,
      "outputs": [
        {
          "output_type": "execute_result",
          "data": {
            "text/html": [
              "<div>\n",
              "<style scoped>\n",
              "    .dataframe tbody tr th:only-of-type {\n",
              "        vertical-align: middle;\n",
              "    }\n",
              "\n",
              "    .dataframe tbody tr th {\n",
              "        vertical-align: top;\n",
              "    }\n",
              "\n",
              "    .dataframe thead th {\n",
              "        text-align: right;\n",
              "    }\n",
              "</style>\n",
              "<table border=\"1\" class=\"dataframe\">\n",
              "  <thead>\n",
              "    <tr style=\"text-align: right;\">\n",
              "      <th></th>\n",
              "      <th>Name</th>\n",
              "      <th>ID</th>\n",
              "      <th>CGPA</th>\n",
              "    </tr>\n",
              "  </thead>\n",
              "  <tbody>\n",
              "    <tr>\n",
              "      <th>0</th>\n",
              "      <td>A</td>\n",
              "      <td>199</td>\n",
              "      <td>5</td>\n",
              "    </tr>\n",
              "    <tr>\n",
              "      <th>1</th>\n",
              "      <td>B</td>\n",
              "      <td>299</td>\n",
              "      <td>6</td>\n",
              "    </tr>\n",
              "    <tr>\n",
              "      <th>2</th>\n",
              "      <td>C</td>\n",
              "      <td>399</td>\n",
              "      <td>7</td>\n",
              "    </tr>\n",
              "    <tr>\n",
              "      <th>3</th>\n",
              "      <td>D</td>\n",
              "      <td>499</td>\n",
              "      <td>8</td>\n",
              "    </tr>\n",
              "    <tr>\n",
              "      <th>4</th>\n",
              "      <td>E</td>\n",
              "      <td>599</td>\n",
              "      <td>9</td>\n",
              "    </tr>\n",
              "  </tbody>\n",
              "</table>\n",
              "</div>"
            ],
            "text/plain": [
              "  Name   ID  CGPA\n",
              "0    A  199     5\n",
              "1    B  299     6\n",
              "2    C  399     7\n",
              "3    D  499     8\n",
              "4    E  599     9"
            ]
          },
          "metadata": {
            "tags": []
          },
          "execution_count": 39
        }
      ]
    },
    {
      "cell_type": "markdown",
      "metadata": {
        "id": "q40z3kP3Jmcf",
        "colab_type": "text"
      },
      "source": [
        "**Assigning Columns from Series**"
      ]
    },
    {
      "cell_type": "markdown",
      "metadata": {
        "id": "jWWhcRXfJ-U6",
        "colab_type": "text"
      },
      "source": [
        "A column that does not exist can be added "
      ]
    },
    {
      "cell_type": "code",
      "metadata": {
        "id": "gsSGB3-SJfn3",
        "colab_type": "code",
        "colab": {}
      },
      "source": [
        "vals=pd.Series([7.5,8.5,9.5],index=[2,3,4])\n",
        "studFrame['SGPA']=vals"
      ],
      "execution_count": 0,
      "outputs": []
    },
    {
      "cell_type": "code",
      "metadata": {
        "id": "8oFpjOvIJr1q",
        "colab_type": "code",
        "outputId": "e7bcb391-bc0b-4bc7-9d58-3716da1fb7ee",
        "colab": {
          "base_uri": "https://localhost:8080/",
          "height": 195
        }
      },
      "source": [
        "studFrame"
      ],
      "execution_count": 0,
      "outputs": [
        {
          "output_type": "execute_result",
          "data": {
            "text/html": [
              "<div>\n",
              "<style scoped>\n",
              "    .dataframe tbody tr th:only-of-type {\n",
              "        vertical-align: middle;\n",
              "    }\n",
              "\n",
              "    .dataframe tbody tr th {\n",
              "        vertical-align: top;\n",
              "    }\n",
              "\n",
              "    .dataframe thead th {\n",
              "        text-align: right;\n",
              "    }\n",
              "</style>\n",
              "<table border=\"1\" class=\"dataframe\">\n",
              "  <thead>\n",
              "    <tr style=\"text-align: right;\">\n",
              "      <th></th>\n",
              "      <th>Name</th>\n",
              "      <th>ID</th>\n",
              "      <th>CGPA</th>\n",
              "      <th>SGPA</th>\n",
              "    </tr>\n",
              "  </thead>\n",
              "  <tbody>\n",
              "    <tr>\n",
              "      <th>0</th>\n",
              "      <td>A</td>\n",
              "      <td>199</td>\n",
              "      <td>5</td>\n",
              "      <td>NaN</td>\n",
              "    </tr>\n",
              "    <tr>\n",
              "      <th>1</th>\n",
              "      <td>B</td>\n",
              "      <td>299</td>\n",
              "      <td>6</td>\n",
              "      <td>NaN</td>\n",
              "    </tr>\n",
              "    <tr>\n",
              "      <th>2</th>\n",
              "      <td>C</td>\n",
              "      <td>399</td>\n",
              "      <td>7</td>\n",
              "      <td>7.5</td>\n",
              "    </tr>\n",
              "    <tr>\n",
              "      <th>3</th>\n",
              "      <td>D</td>\n",
              "      <td>499</td>\n",
              "      <td>8</td>\n",
              "      <td>8.5</td>\n",
              "    </tr>\n",
              "    <tr>\n",
              "      <th>4</th>\n",
              "      <td>E</td>\n",
              "      <td>599</td>\n",
              "      <td>9</td>\n",
              "      <td>9.5</td>\n",
              "    </tr>\n",
              "  </tbody>\n",
              "</table>\n",
              "</div>"
            ],
            "text/plain": [
              "  Name   ID  CGPA  SGPA\n",
              "0    A  199     5   NaN\n",
              "1    B  299     6   NaN\n",
              "2    C  399     7   7.5\n",
              "3    D  499     8   8.5\n",
              "4    E  599     9   9.5"
            ]
          },
          "metadata": {
            "tags": []
          },
          "execution_count": 41
        }
      ]
    },
    {
      "cell_type": "markdown",
      "metadata": {
        "id": "oUGB9B00KQ_X",
        "colab_type": "text"
      },
      "source": [
        "Deleting Columns"
      ]
    },
    {
      "cell_type": "code",
      "metadata": {
        "id": "0oWaGdoXJvBT",
        "colab_type": "code",
        "outputId": "1bd58814-fe72-444d-d800-c2f43117645a",
        "colab": {
          "base_uri": "https://localhost:8080/",
          "height": 195
        }
      },
      "source": [
        "del studFrame['SGPA']\n",
        "studFrame"
      ],
      "execution_count": 0,
      "outputs": [
        {
          "output_type": "execute_result",
          "data": {
            "text/html": [
              "<div>\n",
              "<style scoped>\n",
              "    .dataframe tbody tr th:only-of-type {\n",
              "        vertical-align: middle;\n",
              "    }\n",
              "\n",
              "    .dataframe tbody tr th {\n",
              "        vertical-align: top;\n",
              "    }\n",
              "\n",
              "    .dataframe thead th {\n",
              "        text-align: right;\n",
              "    }\n",
              "</style>\n",
              "<table border=\"1\" class=\"dataframe\">\n",
              "  <thead>\n",
              "    <tr style=\"text-align: right;\">\n",
              "      <th></th>\n",
              "      <th>Name</th>\n",
              "      <th>ID</th>\n",
              "      <th>CGPA</th>\n",
              "    </tr>\n",
              "  </thead>\n",
              "  <tbody>\n",
              "    <tr>\n",
              "      <th>0</th>\n",
              "      <td>A</td>\n",
              "      <td>199</td>\n",
              "      <td>5</td>\n",
              "    </tr>\n",
              "    <tr>\n",
              "      <th>1</th>\n",
              "      <td>B</td>\n",
              "      <td>299</td>\n",
              "      <td>6</td>\n",
              "    </tr>\n",
              "    <tr>\n",
              "      <th>2</th>\n",
              "      <td>C</td>\n",
              "      <td>399</td>\n",
              "      <td>7</td>\n",
              "    </tr>\n",
              "    <tr>\n",
              "      <th>3</th>\n",
              "      <td>D</td>\n",
              "      <td>499</td>\n",
              "      <td>8</td>\n",
              "    </tr>\n",
              "    <tr>\n",
              "      <th>4</th>\n",
              "      <td>E</td>\n",
              "      <td>599</td>\n",
              "      <td>9</td>\n",
              "    </tr>\n",
              "  </tbody>\n",
              "</table>\n",
              "</div>"
            ],
            "text/plain": [
              "  Name   ID  CGPA\n",
              "0    A  199     5\n",
              "1    B  299     6\n",
              "2    C  399     7\n",
              "3    D  499     8\n",
              "4    E  599     9"
            ]
          },
          "metadata": {
            "tags": []
          },
          "execution_count": 43
        }
      ]
    },
    {
      "cell_type": "markdown",
      "metadata": {
        "id": "KBTP7S_vKX1W",
        "colab_type": "text"
      },
      "source": [
        "Dataframe from Dictionary of Dictionaries"
      ]
    },
    {
      "cell_type": "code",
      "metadata": {
        "id": "iMrJ5j9iKTOc",
        "colab_type": "code",
        "colab": {}
      },
      "source": [
        "avgs = {'Dhoni': {2017: 55.2, 2018: 32.91, 2019: 55.5}, 'Rishab': {2018: 41.5, 2019: 51.7}}"
      ],
      "execution_count": 0,
      "outputs": []
    },
    {
      "cell_type": "code",
      "metadata": {
        "id": "pCAvCdagOug0",
        "colab_type": "code",
        "outputId": "23fbec6c-5a13-4e83-b181-17b1907f88c4",
        "colab": {
          "base_uri": "https://localhost:8080/",
          "height": 136
        }
      },
      "source": [
        "keepers=pd.DataFrame(avgs)\n",
        "keepers"
      ],
      "execution_count": 0,
      "outputs": [
        {
          "output_type": "execute_result",
          "data": {
            "text/html": [
              "<div>\n",
              "<style scoped>\n",
              "    .dataframe tbody tr th:only-of-type {\n",
              "        vertical-align: middle;\n",
              "    }\n",
              "\n",
              "    .dataframe tbody tr th {\n",
              "        vertical-align: top;\n",
              "    }\n",
              "\n",
              "    .dataframe thead th {\n",
              "        text-align: right;\n",
              "    }\n",
              "</style>\n",
              "<table border=\"1\" class=\"dataframe\">\n",
              "  <thead>\n",
              "    <tr style=\"text-align: right;\">\n",
              "      <th></th>\n",
              "      <th>Dhoni</th>\n",
              "      <th>Rishab</th>\n",
              "    </tr>\n",
              "  </thead>\n",
              "  <tbody>\n",
              "    <tr>\n",
              "      <th>2017</th>\n",
              "      <td>55.20</td>\n",
              "      <td>NaN</td>\n",
              "    </tr>\n",
              "    <tr>\n",
              "      <th>2018</th>\n",
              "      <td>32.91</td>\n",
              "      <td>41.5</td>\n",
              "    </tr>\n",
              "    <tr>\n",
              "      <th>2019</th>\n",
              "      <td>55.50</td>\n",
              "      <td>51.7</td>\n",
              "    </tr>\n",
              "  </tbody>\n",
              "</table>\n",
              "</div>"
            ],
            "text/plain": [
              "      Dhoni  Rishab\n",
              "2017  55.20     NaN\n",
              "2018  32.91    41.5\n",
              "2019  55.50    51.7"
            ]
          },
          "metadata": {
            "tags": []
          },
          "execution_count": 45
        }
      ]
    },
    {
      "cell_type": "markdown",
      "metadata": {
        "id": "haVGXp5pO1ov",
        "colab_type": "text"
      },
      "source": [
        "The outer dictionary is treated as columns,\n",
        "Inner dictionaries are treated as rows"
      ]
    },
    {
      "cell_type": "markdown",
      "metadata": {
        "id": "RNqfX4ISO_3Z",
        "colab_type": "text"
      },
      "source": [
        "**Pandas Index Objects**"
      ]
    },
    {
      "cell_type": "markdown",
      "metadata": {
        "id": "JLNnGoZdPGOB",
        "colab_type": "text"
      },
      "source": [
        "Index objects store index labels and\n",
        "index names for different pandas\n",
        "objects"
      ]
    },
    {
      "cell_type": "code",
      "metadata": {
        "id": "GtPpC6BIOyEH",
        "colab_type": "code",
        "outputId": "5a02ae3b-c411-4d8c-a644-c172d4fe096d",
        "colab": {
          "base_uri": "https://localhost:8080/",
          "height": 34
        }
      },
      "source": [
        "keepers.index"
      ],
      "execution_count": 0,
      "outputs": [
        {
          "output_type": "execute_result",
          "data": {
            "text/plain": [
              "Int64Index([2017, 2018, 2019], dtype='int64')"
            ]
          },
          "metadata": {
            "tags": []
          },
          "execution_count": 46
        }
      ]
    },
    {
      "cell_type": "code",
      "metadata": {
        "id": "Osx72RvQPCf5",
        "colab_type": "code",
        "outputId": "39446d9c-db90-4320-dff2-57a864d23898",
        "colab": {
          "base_uri": "https://localhost:8080/",
          "height": 34
        }
      },
      "source": [
        "batsmen=pd.Series([43,77,101],index=[\"Rohit\",\"Dhawan\",\"Kohli\"])\n",
        "batsmen.index"
      ],
      "execution_count": 0,
      "outputs": [
        {
          "output_type": "execute_result",
          "data": {
            "text/plain": [
              "Index(['Rohit', 'Dhawan', 'Kohli'], dtype='object')"
            ]
          },
          "metadata": {
            "tags": []
          },
          "execution_count": 47
        }
      ]
    },
    {
      "cell_type": "code",
      "metadata": {
        "id": "Pp7yWiBoPLOn",
        "colab_type": "code",
        "outputId": "78ded95f-bf08-4de8-fc7f-3fa38d10e421",
        "colab": {
          "base_uri": "https://localhost:8080/",
          "height": 84
        }
      },
      "source": [
        "batsmen"
      ],
      "execution_count": 0,
      "outputs": [
        {
          "output_type": "execute_result",
          "data": {
            "text/plain": [
              "Rohit      43\n",
              "Dhawan     77\n",
              "Kohli     101\n",
              "dtype: int64"
            ]
          },
          "metadata": {
            "tags": []
          },
          "execution_count": 48
        }
      ]
    },
    {
      "cell_type": "markdown",
      "metadata": {
        "id": "jAdsgi7XPReR",
        "colab_type": "text"
      },
      "source": [
        "Index objects are immutable"
      ]
    },
    {
      "cell_type": "code",
      "metadata": {
        "id": "M2Hhrq9YPNjr",
        "colab_type": "code",
        "outputId": "6137d021-bf50-4081-c935-8965a768d702",
        "colab": {
          "base_uri": "https://localhost:8080/",
          "height": 279
        }
      },
      "source": [
        "batsmen.index[1]=\"Rahul\""
      ],
      "execution_count": 0,
      "outputs": [
        {
          "output_type": "error",
          "ename": "TypeError",
          "evalue": "ignored",
          "traceback": [
            "\u001b[0;31m---------------------------------------------------------------------------\u001b[0m",
            "\u001b[0;31mTypeError\u001b[0m                                 Traceback (most recent call last)",
            "\u001b[0;32m<ipython-input-49-138be0d448ec>\u001b[0m in \u001b[0;36m<module>\u001b[0;34m()\u001b[0m\n\u001b[0;32m----> 1\u001b[0;31m \u001b[0mbatsmen\u001b[0m\u001b[0;34m.\u001b[0m\u001b[0mindex\u001b[0m\u001b[0;34m[\u001b[0m\u001b[0;36m1\u001b[0m\u001b[0;34m]\u001b[0m\u001b[0;34m=\u001b[0m\u001b[0;34m\"Rahul\"\u001b[0m\u001b[0;34m\u001b[0m\u001b[0;34m\u001b[0m\u001b[0m\n\u001b[0m",
            "\u001b[0;32m/usr/local/lib/python3.6/dist-packages/pandas/core/indexes/base.py\u001b[0m in \u001b[0;36m__setitem__\u001b[0;34m(self, key, value)\u001b[0m\n\u001b[1;32m   3907\u001b[0m \u001b[0;34m\u001b[0m\u001b[0m\n\u001b[1;32m   3908\u001b[0m     \u001b[0;32mdef\u001b[0m \u001b[0m__setitem__\u001b[0m\u001b[0;34m(\u001b[0m\u001b[0mself\u001b[0m\u001b[0;34m,\u001b[0m \u001b[0mkey\u001b[0m\u001b[0;34m,\u001b[0m \u001b[0mvalue\u001b[0m\u001b[0;34m)\u001b[0m\u001b[0;34m:\u001b[0m\u001b[0;34m\u001b[0m\u001b[0;34m\u001b[0m\u001b[0m\n\u001b[0;32m-> 3909\u001b[0;31m         \u001b[0;32mraise\u001b[0m \u001b[0mTypeError\u001b[0m\u001b[0;34m(\u001b[0m\u001b[0;34m\"Index does not support mutable operations\"\u001b[0m\u001b[0;34m)\u001b[0m\u001b[0;34m\u001b[0m\u001b[0;34m\u001b[0m\u001b[0m\n\u001b[0m\u001b[1;32m   3910\u001b[0m \u001b[0;34m\u001b[0m\u001b[0m\n\u001b[1;32m   3911\u001b[0m     \u001b[0;32mdef\u001b[0m \u001b[0m__getitem__\u001b[0m\u001b[0;34m(\u001b[0m\u001b[0mself\u001b[0m\u001b[0;34m,\u001b[0m \u001b[0mkey\u001b[0m\u001b[0;34m)\u001b[0m\u001b[0;34m:\u001b[0m\u001b[0;34m\u001b[0m\u001b[0;34m\u001b[0m\u001b[0m\n",
            "\u001b[0;31mTypeError\u001b[0m: Index does not support mutable operations"
          ]
        }
      ]
    },
    {
      "cell_type": "markdown",
      "metadata": {
        "id": "rdgG8fLmPXoP",
        "colab_type": "text"
      },
      "source": [
        "**DataFrame Index Objects**"
      ]
    },
    {
      "cell_type": "code",
      "metadata": {
        "id": "iMbc2oHCPTmm",
        "colab_type": "code",
        "outputId": "8b2ea08e-b14c-414b-841b-205101c56522",
        "colab": {
          "base_uri": "https://localhost:8080/",
          "height": 34
        }
      },
      "source": [
        "keepers.columns"
      ],
      "execution_count": 0,
      "outputs": [
        {
          "output_type": "execute_result",
          "data": {
            "text/plain": [
              "Index(['Dhoni', 'Rishab'], dtype='object')"
            ]
          },
          "metadata": {
            "tags": []
          },
          "execution_count": 50
        }
      ]
    },
    {
      "cell_type": "code",
      "metadata": {
        "id": "rVWwWr8oPZfj",
        "colab_type": "code",
        "outputId": "dce2162f-7e54-4838-cb60-0d30e5f7a1a7",
        "colab": {
          "base_uri": "https://localhost:8080/",
          "height": 34
        }
      },
      "source": [
        "keepers.index"
      ],
      "execution_count": 0,
      "outputs": [
        {
          "output_type": "execute_result",
          "data": {
            "text/plain": [
              "Int64Index([2017, 2018, 2019], dtype='int64')"
            ]
          },
          "metadata": {
            "tags": []
          },
          "execution_count": 51
        }
      ]
    },
    {
      "cell_type": "markdown",
      "metadata": {
        "id": "RBfSGn81PgSk",
        "colab_type": "text"
      },
      "source": [
        "**Pandas Index Objects as Sets**"
      ]
    },
    {
      "cell_type": "code",
      "metadata": {
        "id": "3fg_ui4jPdxg",
        "colab_type": "code",
        "outputId": "8c85da5d-fec2-41b8-a392-563e2639502d",
        "colab": {
          "base_uri": "https://localhost:8080/",
          "height": 34
        }
      },
      "source": [
        "\"Rishab\" in keepers.columns"
      ],
      "execution_count": 0,
      "outputs": [
        {
          "output_type": "execute_result",
          "data": {
            "text/plain": [
              "True"
            ]
          },
          "metadata": {
            "tags": []
          },
          "execution_count": 52
        }
      ]
    },
    {
      "cell_type": "code",
      "metadata": {
        "id": "j-YEHZ9NPkne",
        "colab_type": "code",
        "outputId": "498a97c7-2aaf-4d7a-d459-3a6512ede943",
        "colab": {
          "base_uri": "https://localhost:8080/",
          "height": 34
        }
      },
      "source": [
        "\"Rohit\"in keepers.columns"
      ],
      "execution_count": 0,
      "outputs": [
        {
          "output_type": "execute_result",
          "data": {
            "text/plain": [
              "False"
            ]
          },
          "metadata": {
            "tags": []
          },
          "execution_count": 53
        }
      ]
    },
    {
      "cell_type": "code",
      "metadata": {
        "id": "-x-hjGEWPlrS",
        "colab_type": "code",
        "outputId": "a117ce63-aafb-448e-996b-412f76fee74e",
        "colab": {
          "base_uri": "https://localhost:8080/",
          "height": 34
        }
      },
      "source": [
        "2017 in keepers.index"
      ],
      "execution_count": 0,
      "outputs": [
        {
          "output_type": "execute_result",
          "data": {
            "text/plain": [
              "True"
            ]
          },
          "metadata": {
            "tags": []
          },
          "execution_count": 54
        }
      ]
    },
    {
      "cell_type": "code",
      "metadata": {
        "id": "85n05-1cPm3R",
        "colab_type": "code",
        "outputId": "fa43a47c-65de-44ec-87db-6c25ef95573b",
        "colab": {
          "base_uri": "https://localhost:8080/",
          "height": 34
        }
      },
      "source": [
        "keepers.columns"
      ],
      "execution_count": 0,
      "outputs": [
        {
          "output_type": "execute_result",
          "data": {
            "text/plain": [
              "Index(['Dhoni', 'Rishab'], dtype='object')"
            ]
          },
          "metadata": {
            "tags": []
          },
          "execution_count": 55
        }
      ]
    },
    {
      "cell_type": "code",
      "metadata": {
        "id": "bkxSXjMpPvT-",
        "colab_type": "code",
        "outputId": "b5af3444-7e79-4119-e8ba-5db551885648",
        "colab": {
          "base_uri": "https://localhost:8080/",
          "height": 34
        }
      },
      "source": [
        "batsmen.index"
      ],
      "execution_count": 0,
      "outputs": [
        {
          "output_type": "execute_result",
          "data": {
            "text/plain": [
              "Index(['Rohit', 'Dhawan', 'Kohli'], dtype='object')"
            ]
          },
          "metadata": {
            "tags": []
          },
          "execution_count": 56
        }
      ]
    },
    {
      "cell_type": "code",
      "metadata": {
        "id": "BRq11KZYPwWc",
        "colab_type": "code",
        "outputId": "b516f11d-e23a-44eb-9b95-71afce51f66e",
        "colab": {
          "base_uri": "https://localhost:8080/",
          "height": 34
        }
      },
      "source": [
        "batsmen.index.append(keepers.columns)"
      ],
      "execution_count": 0,
      "outputs": [
        {
          "output_type": "execute_result",
          "data": {
            "text/plain": [
              "Index(['Rohit', 'Dhawan', 'Kohli', 'Dhoni', 'Rishab'], dtype='object')"
            ]
          },
          "metadata": {
            "tags": []
          },
          "execution_count": 57
        }
      ]
    },
    {
      "cell_type": "markdown",
      "metadata": {
        "id": "3A6aYJCKP66v",
        "colab_type": "text"
      },
      "source": [
        "Since index objects are immutable,\n",
        "the above creates a new index object\n",
        "without disturbing the original index"
      ]
    },
    {
      "cell_type": "code",
      "metadata": {
        "id": "axfXDmAwPz8R",
        "colab_type": "code",
        "outputId": "2fde2554-f139-4b61-b649-347eca5a3427",
        "colab": {
          "base_uri": "https://localhost:8080/",
          "height": 34
        }
      },
      "source": [
        "batsmen.index"
      ],
      "execution_count": 0,
      "outputs": [
        {
          "output_type": "execute_result",
          "data": {
            "text/plain": [
              "Index(['Rohit', 'Dhawan', 'Kohli'], dtype='object')"
            ]
          },
          "metadata": {
            "tags": []
          },
          "execution_count": 58
        }
      ]
    },
    {
      "cell_type": "markdown",
      "metadata": {
        "id": "aaz5CKwXQA7v",
        "colab_type": "text"
      },
      "source": [
        "**Pandas Index Object Methods**"
      ]
    },
    {
      "cell_type": "markdown",
      "metadata": {
        "id": "U2nAHmuZQHH3",
        "colab_type": "text"
      },
      "source": [
        "We may remove entries from axes by\n",
        "labels using drop or by explicitly\n",
        "mentioning the index position using\n",
        "delete"
      ]
    },
    {
      "cell_type": "code",
      "metadata": {
        "id": "p0nVggp2P8dR",
        "colab_type": "code",
        "outputId": "3bfc6b37-483a-4986-8561-58557a3a0716",
        "colab": {
          "base_uri": "https://localhost:8080/",
          "height": 34
        }
      },
      "source": [
        "batsmen.index.drop(\"Rohit\")"
      ],
      "execution_count": 0,
      "outputs": [
        {
          "output_type": "execute_result",
          "data": {
            "text/plain": [
              "Index(['Dhawan', 'Kohli'], dtype='object')"
            ]
          },
          "metadata": {
            "tags": []
          },
          "execution_count": 59
        }
      ]
    },
    {
      "cell_type": "code",
      "metadata": {
        "id": "Ao4-8LXqQDIp",
        "colab_type": "code",
        "outputId": "7dba3b9b-5efd-4371-bb1f-66150ffabe99",
        "colab": {
          "base_uri": "https://localhost:8080/",
          "height": 34
        }
      },
      "source": [
        "batsmen.index.delete(1)"
      ],
      "execution_count": 0,
      "outputs": [
        {
          "output_type": "execute_result",
          "data": {
            "text/plain": [
              "Index(['Rohit', 'Kohli'], dtype='object')"
            ]
          },
          "metadata": {
            "tags": []
          },
          "execution_count": 60
        }
      ]
    },
    {
      "cell_type": "code",
      "metadata": {
        "id": "aNAeCI1cQK8H",
        "colab_type": "code",
        "colab": {}
      },
      "source": [
        ""
      ],
      "execution_count": 0,
      "outputs": []
    }
  ]
}