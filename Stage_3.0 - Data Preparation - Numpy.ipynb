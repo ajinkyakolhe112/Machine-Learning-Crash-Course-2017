{
  "nbformat": 4,
  "nbformat_minor": 0,
  "metadata": {
    "colab": {
      "name": "Numpy Complete.ipynb",
      "provenance": [],
      "collapsed_sections": []
    },
    "kernelspec": {
      "name": "python3",
      "display_name": "Python 3"
    }
  },
  "cells": [
    {
      "cell_type": "markdown",
      "metadata": {
        "id": "m-KZe5C1h-u4",
        "colab_type": "text"
      },
      "source": [
        "**Creating ndarray**"
      ]
    },
    {
      "cell_type": "code",
      "metadata": {
        "id": "qDaZWySviBxV",
        "colab_type": "code",
        "outputId": "67997528-ba83-4f2b-9417-57d63cb85f21",
        "colab": {
          "base_uri": "https://localhost:8080/",
          "height": 34
        }
      },
      "source": [
        "import numpy as np\n",
        "data1=[1,3,2.5,-2,1]\n",
        "arr1=np.array(data1)\n",
        "arr1"
      ],
      "execution_count": 0,
      "outputs": [
        {
          "output_type": "execute_result",
          "data": {
            "text/plain": [
              "array([ 1. ,  3. ,  2.5, -2. ,  1. ])"
            ]
          },
          "metadata": {
            "tags": []
          },
          "execution_count": 1
        }
      ]
    },
    {
      "cell_type": "markdown",
      "metadata": {
        "id": "J-1AfKDiiK1Y",
        "colab_type": "text"
      },
      "source": [
        "**Using a tuple to initialize ndarray**"
      ]
    },
    {
      "cell_type": "code",
      "metadata": {
        "id": "sH3vMLzEiJmC",
        "colab_type": "code",
        "outputId": "fec1de6d-6132-4133-bdd5-20275e8bc8bb",
        "colab": {
          "base_uri": "https://localhost:8080/",
          "height": 34
        }
      },
      "source": [
        "data2=(1,3,2.5,-2,1)\n",
        "arr2=np.array(data2)\n",
        "arr2"
      ],
      "execution_count": 0,
      "outputs": [
        {
          "output_type": "execute_result",
          "data": {
            "text/plain": [
              "array([ 1. ,  3. ,  2.5, -2. ,  1. ])"
            ]
          },
          "metadata": {
            "tags": []
          },
          "execution_count": 2
        }
      ]
    },
    {
      "cell_type": "markdown",
      "metadata": {
        "id": "TIN1cnOIip3y",
        "colab_type": "text"
      },
      "source": [
        "**Using an array to initialize ndarray**"
      ]
    },
    {
      "cell_type": "code",
      "metadata": {
        "id": "dEcyr2dninQc",
        "colab_type": "code",
        "outputId": "4099e8c7-b479-4bb4-a5f1-871d578ae723",
        "colab": {
          "base_uri": "https://localhost:8080/",
          "height": 34
        }
      },
      "source": [
        "arr3=np.array(arr1)\n",
        "arr3"
      ],
      "execution_count": 0,
      "outputs": [
        {
          "output_type": "execute_result",
          "data": {
            "text/plain": [
              "array([ 1. ,  3. ,  2.5, -2. ,  1. ])"
            ]
          },
          "metadata": {
            "tags": []
          },
          "execution_count": 3
        }
      ]
    },
    {
      "cell_type": "markdown",
      "metadata": {
        "id": "uJMuxyr6i4Ig",
        "colab_type": "text"
      },
      "source": [
        "**Dimension and Shape**"
      ]
    },
    {
      "cell_type": "code",
      "metadata": {
        "id": "ecCrmwd6ixrg",
        "colab_type": "code",
        "outputId": "48333860-ab18-4893-b3a6-83fb9ac9e8d7",
        "colab": {
          "base_uri": "https://localhost:8080/",
          "height": 34
        }
      },
      "source": [
        "arr3"
      ],
      "execution_count": 0,
      "outputs": [
        {
          "output_type": "execute_result",
          "data": {
            "text/plain": [
              "array([ 1. ,  3. ,  2.5, -2. ,  1. ])"
            ]
          },
          "metadata": {
            "tags": []
          },
          "execution_count": 4
        }
      ]
    },
    {
      "cell_type": "code",
      "metadata": {
        "id": "s5ZHF6Eli8v0",
        "colab_type": "code",
        "outputId": "ef96d436-ab5f-4c18-eb2d-e0ff29cb8198",
        "colab": {
          "base_uri": "https://localhost:8080/",
          "height": 34
        }
      },
      "source": [
        "arr1.ndim"
      ],
      "execution_count": 0,
      "outputs": [
        {
          "output_type": "execute_result",
          "data": {
            "text/plain": [
              "1"
            ]
          },
          "metadata": {
            "tags": []
          },
          "execution_count": 5
        }
      ]
    },
    {
      "cell_type": "code",
      "metadata": {
        "id": "4lCytxnIi-PH",
        "colab_type": "code",
        "outputId": "36a8fe9d-563c-45fd-87f4-b26ee846a694",
        "colab": {
          "base_uri": "https://localhost:8080/",
          "height": 34
        }
      },
      "source": [
        "arr1.shape"
      ],
      "execution_count": 0,
      "outputs": [
        {
          "output_type": "execute_result",
          "data": {
            "text/plain": [
              "(5,)"
            ]
          },
          "metadata": {
            "tags": []
          },
          "execution_count": 6
        }
      ]
    },
    {
      "cell_type": "markdown",
      "metadata": {
        "id": "GN9o8S2JjE5N",
        "colab_type": "text"
      },
      "source": [
        "**2-d ndarray example**"
      ]
    },
    {
      "cell_type": "code",
      "metadata": {
        "id": "PXYBhzeBjAeh",
        "colab_type": "code",
        "outputId": "7f5f018d-e58d-43a2-9694-cc93075859a8",
        "colab": {
          "base_uri": "https://localhost:8080/",
          "height": 50
        }
      },
      "source": [
        "data2=[[1,2,3,4],[5,6,7,8]]\n",
        "arr4=np.array(data2)\n",
        "arr4"
      ],
      "execution_count": 0,
      "outputs": [
        {
          "output_type": "execute_result",
          "data": {
            "text/plain": [
              "array([[1, 2, 3, 4],\n",
              "       [5, 6, 7, 8]])"
            ]
          },
          "metadata": {
            "tags": []
          },
          "execution_count": 7
        }
      ]
    },
    {
      "cell_type": "code",
      "metadata": {
        "id": "KKUbFr0PjLf-",
        "colab_type": "code",
        "outputId": "2fe55492-4f5b-4ed8-e767-8aa2ff03b43f",
        "colab": {
          "base_uri": "https://localhost:8080/",
          "height": 34
        }
      },
      "source": [
        "arr4.ndim"
      ],
      "execution_count": 0,
      "outputs": [
        {
          "output_type": "execute_result",
          "data": {
            "text/plain": [
              "2"
            ]
          },
          "metadata": {
            "tags": []
          },
          "execution_count": 8
        }
      ]
    },
    {
      "cell_type": "code",
      "metadata": {
        "id": "rRktVzQWjPGT",
        "colab_type": "code",
        "outputId": "d82e087f-16b3-4e6a-cbc8-a9a80f109147",
        "colab": {
          "base_uri": "https://localhost:8080/",
          "height": 34
        }
      },
      "source": [
        "arr4.shape"
      ],
      "execution_count": 0,
      "outputs": [
        {
          "output_type": "execute_result",
          "data": {
            "text/plain": [
              "(2, 4)"
            ]
          },
          "metadata": {
            "tags": []
          },
          "execution_count": 9
        }
      ]
    },
    {
      "cell_type": "code",
      "metadata": {
        "id": "KdhbVQB0jQgl",
        "colab_type": "code",
        "outputId": "47a563e7-580f-422b-ccab-42b99c2470d4",
        "colab": {
          "base_uri": "https://localhost:8080/",
          "height": 34
        }
      },
      "source": [
        "arr4.dtype"
      ],
      "execution_count": 0,
      "outputs": [
        {
          "output_type": "execute_result",
          "data": {
            "text/plain": [
              "dtype('int64')"
            ]
          },
          "metadata": {
            "tags": []
          },
          "execution_count": 10
        }
      ]
    },
    {
      "cell_type": "markdown",
      "metadata": {
        "id": "Rj1qCCFUjVh2",
        "colab_type": "text"
      },
      "source": [
        "**Alternative ways to create ndarrays**"
      ]
    },
    {
      "cell_type": "code",
      "metadata": {
        "id": "5rs7-I-qjR51",
        "colab_type": "code",
        "outputId": "1b9c3319-bd7f-4d8f-b395-82603e74c132",
        "colab": {
          "base_uri": "https://localhost:8080/",
          "height": 34
        }
      },
      "source": [
        "np.zeros(5) #a row of 5 zeros"
      ],
      "execution_count": 0,
      "outputs": [
        {
          "output_type": "execute_result",
          "data": {
            "text/plain": [
              "array([0., 0., 0., 0., 0.])"
            ]
          },
          "metadata": {
            "tags": []
          },
          "execution_count": 11
        }
      ]
    },
    {
      "cell_type": "code",
      "metadata": {
        "id": "bDLDCYrmjcGh",
        "colab_type": "code",
        "outputId": "ce177b4f-a383-4bf1-ae88-9e5b9895eb3d",
        "colab": {
          "base_uri": "https://localhost:8080/",
          "height": 50
        }
      },
      "source": [
        "np.ones((2,3))#2 rows 3 columns of 1’s"
      ],
      "execution_count": 0,
      "outputs": [
        {
          "output_type": "execute_result",
          "data": {
            "text/plain": [
              "array([[1., 1., 1.],\n",
              "       [1., 1., 1.]])"
            ]
          },
          "metadata": {
            "tags": []
          },
          "execution_count": 12
        }
      ]
    },
    {
      "cell_type": "markdown",
      "metadata": {
        "id": "3Ke23EQyjjMt",
        "colab_type": "text"
      },
      "source": [
        "**Creating ndarrays using asarrays**"
      ]
    },
    {
      "cell_type": "code",
      "metadata": {
        "id": "yPeGfYV-jeiv",
        "colab_type": "code",
        "outputId": "a97e9d65-ed9f-41ae-f54a-20e5660fa326",
        "colab": {
          "base_uri": "https://localhost:8080/",
          "height": 34
        }
      },
      "source": [
        "arr=[1,2,3,4,5]\n",
        "aarray = np.array(arr)\n",
        "aarray"
      ],
      "execution_count": 0,
      "outputs": [
        {
          "output_type": "execute_result",
          "data": {
            "text/plain": [
              "array([1, 2, 3, 4, 5])"
            ]
          },
          "metadata": {
            "tags": []
          },
          "execution_count": 13
        }
      ]
    },
    {
      "cell_type": "code",
      "metadata": {
        "id": "s1isLTeXjn2F",
        "colab_type": "code",
        "outputId": "b6f68d5c-344c-483b-f8fc-73d76043c2dd",
        "colab": {
          "base_uri": "https://localhost:8080/",
          "height": 34
        }
      },
      "source": [
        "barray = np.asarray(aarray) #asarray does not create a copy\n",
        "barray[1]=6\n",
        "barray"
      ],
      "execution_count": 0,
      "outputs": [
        {
          "output_type": "execute_result",
          "data": {
            "text/plain": [
              "array([1, 6, 3, 4, 5])"
            ]
          },
          "metadata": {
            "tags": []
          },
          "execution_count": 14
        }
      ]
    },
    {
      "cell_type": "code",
      "metadata": {
        "id": "Ul9ghdMdjt1E",
        "colab_type": "code",
        "outputId": "0e3cab85-b916-45fe-fe81-514325c0df1c",
        "colab": {
          "base_uri": "https://localhost:8080/",
          "height": 34
        }
      },
      "source": [
        "aarray"
      ],
      "execution_count": 0,
      "outputs": [
        {
          "output_type": "execute_result",
          "data": {
            "text/plain": [
              "array([1, 6, 3, 4, 5])"
            ]
          },
          "metadata": {
            "tags": []
          },
          "execution_count": 15
        }
      ]
    },
    {
      "cell_type": "code",
      "metadata": {
        "id": "ItIX-E_sj2RQ",
        "colab_type": "code",
        "outputId": "3a558a1b-5c82-40c9-9b3a-26745c25d864",
        "colab": {
          "base_uri": "https://localhost:8080/",
          "height": 34
        }
      },
      "source": [
        "arr"
      ],
      "execution_count": 0,
      "outputs": [
        {
          "output_type": "execute_result",
          "data": {
            "text/plain": [
              "[1, 2, 3, 4, 5]"
            ]
          },
          "metadata": {
            "tags": []
          },
          "execution_count": 16
        }
      ]
    },
    {
      "cell_type": "markdown",
      "metadata": {
        "id": "z3LcOgyQkATn",
        "colab_type": "text"
      },
      "source": [
        "**zeros_like and ones_like**"
      ]
    },
    {
      "cell_type": "code",
      "metadata": {
        "id": "WzL4xD1Zj4U4",
        "colab_type": "code",
        "outputId": "3c2f1dc8-e7ad-4a88-94cb-92d6c736e049",
        "colab": {
          "base_uri": "https://localhost:8080/",
          "height": 34
        }
      },
      "source": [
        "aarray"
      ],
      "execution_count": 0,
      "outputs": [
        {
          "output_type": "execute_result",
          "data": {
            "text/plain": [
              "array([1, 6, 3, 4, 5])"
            ]
          },
          "metadata": {
            "tags": []
          },
          "execution_count": 17
        }
      ]
    },
    {
      "cell_type": "code",
      "metadata": {
        "id": "rEtrNQtKkIrM",
        "colab_type": "code",
        "outputId": "8dfb3dd7-ab8f-4cd6-aed5-278ae30f6836",
        "colab": {
          "base_uri": "https://localhost:8080/",
          "height": 34
        }
      },
      "source": [
        "onearray=np.ones_like(aarray)\n",
        "onearray"
      ],
      "execution_count": 0,
      "outputs": [
        {
          "output_type": "execute_result",
          "data": {
            "text/plain": [
              "array([1, 1, 1, 1, 1])"
            ]
          },
          "metadata": {
            "tags": []
          },
          "execution_count": 18
        }
      ]
    },
    {
      "cell_type": "code",
      "metadata": {
        "id": "3az1fjuTkKmt",
        "colab_type": "code",
        "outputId": "e2f2930c-a0dd-46b8-d000-aaa58baa46c3",
        "colab": {
          "base_uri": "https://localhost:8080/",
          "height": 34
        }
      },
      "source": [
        "zeroarray=np.zeros_like(aarray)\n",
        "zeroarray"
      ],
      "execution_count": 0,
      "outputs": [
        {
          "output_type": "execute_result",
          "data": {
            "text/plain": [
              "array([0, 0, 0, 0, 0])"
            ]
          },
          "metadata": {
            "tags": []
          },
          "execution_count": 19
        }
      ]
    },
    {
      "cell_type": "markdown",
      "metadata": {
        "id": "Wu-CBmuAkS7z",
        "colab_type": "text"
      },
      "source": [
        "**Data types for ndarrays**"
      ]
    },
    {
      "cell_type": "code",
      "metadata": {
        "id": "udJzQh-4kQme",
        "colab_type": "code",
        "outputId": "6b77be36-7dcd-42a4-c275-4285b9e27dcd",
        "colab": {
          "base_uri": "https://localhost:8080/",
          "height": 34
        }
      },
      "source": [
        "arr1=np.array([1, 2, 3], dtype=np.int32)\n",
        "arr1.dtype"
      ],
      "execution_count": 0,
      "outputs": [
        {
          "output_type": "execute_result",
          "data": {
            "text/plain": [
              "dtype('int32')"
            ]
          },
          "metadata": {
            "tags": []
          },
          "execution_count": 20
        }
      ]
    },
    {
      "cell_type": "markdown",
      "metadata": {
        "id": "rLnVjHRhkbD9",
        "colab_type": "text"
      },
      "source": [
        "**ndarray data type casting**"
      ]
    },
    {
      "cell_type": "code",
      "metadata": {
        "id": "e5NoLmIUkYOa",
        "colab_type": "code",
        "outputId": "a0df8806-9220-4f22-d0c8-f7876cf20fee",
        "colab": {
          "base_uri": "https://localhost:8080/",
          "height": 34
        }
      },
      "source": [
        "arr1.dtype"
      ],
      "execution_count": 0,
      "outputs": [
        {
          "output_type": "execute_result",
          "data": {
            "text/plain": [
              "dtype('int32')"
            ]
          },
          "metadata": {
            "tags": []
          },
          "execution_count": 21
        }
      ]
    },
    {
      "cell_type": "code",
      "metadata": {
        "id": "Razxsm3QkhAR",
        "colab_type": "code",
        "colab": {}
      },
      "source": [
        "arr2=arr1.astype(np.float64)"
      ],
      "execution_count": 0,
      "outputs": []
    },
    {
      "cell_type": "code",
      "metadata": {
        "id": "ukYjkIK0kjSG",
        "colab_type": "code",
        "outputId": "a3ce1776-b0a9-4756-8b9d-efa435dd21b7",
        "colab": {
          "base_uri": "https://localhost:8080/",
          "height": 34
        }
      },
      "source": [
        "arr2"
      ],
      "execution_count": 0,
      "outputs": [
        {
          "output_type": "execute_result",
          "data": {
            "text/plain": [
              "array([1., 2., 3.])"
            ]
          },
          "metadata": {
            "tags": []
          },
          "execution_count": 23
        }
      ]
    },
    {
      "cell_type": "code",
      "metadata": {
        "id": "BWimMQy6klfu",
        "colab_type": "code",
        "outputId": "66c188b9-4bb4-458c-b93d-87501c8b7d19",
        "colab": {
          "base_uri": "https://localhost:8080/",
          "height": 34
        }
      },
      "source": [
        "arr2.dtype"
      ],
      "execution_count": 0,
      "outputs": [
        {
          "output_type": "execute_result",
          "data": {
            "text/plain": [
              "dtype('float64')"
            ]
          },
          "metadata": {
            "tags": []
          },
          "execution_count": 24
        }
      ]
    },
    {
      "cell_type": "code",
      "metadata": {
        "id": "ysHGn2e1knq3",
        "colab_type": "code",
        "colab": {}
      },
      "source": [
        "#asarry creates new array"
      ],
      "execution_count": 0,
      "outputs": []
    },
    {
      "cell_type": "code",
      "metadata": {
        "id": "xy2mA1tgkwDh",
        "colab_type": "code",
        "outputId": "5b129083-ec2d-49ae-89b4-e60ac7792fe3",
        "colab": {
          "base_uri": "https://localhost:8080/",
          "height": 50
        }
      },
      "source": [
        "arr4"
      ],
      "execution_count": 0,
      "outputs": [
        {
          "output_type": "execute_result",
          "data": {
            "text/plain": [
              "array([[1, 2, 3, 4],\n",
              "       [5, 6, 7, 8]])"
            ]
          },
          "metadata": {
            "tags": []
          },
          "execution_count": 26
        }
      ]
    },
    {
      "cell_type": "code",
      "metadata": {
        "id": "WSdXF9Apkzab",
        "colab_type": "code",
        "outputId": "dfca99e8-4cc0-44a1-a5ef-6e06a12ab537",
        "colab": {
          "base_uri": "https://localhost:8080/",
          "height": 34
        }
      },
      "source": [
        "arr3"
      ],
      "execution_count": 0,
      "outputs": [
        {
          "output_type": "execute_result",
          "data": {
            "text/plain": [
              "array([ 1. ,  3. ,  2.5, -2. ,  1. ])"
            ]
          },
          "metadata": {
            "tags": []
          },
          "execution_count": 27
        }
      ]
    },
    {
      "cell_type": "code",
      "metadata": {
        "id": "qiLca4ybk3kX",
        "colab_type": "code",
        "outputId": "94206be6-6d84-4f8e-9bcc-6bf504a560ae",
        "colab": {
          "base_uri": "https://localhost:8080/",
          "height": 50
        }
      },
      "source": [
        "arr4.astype(arr3.dtype)"
      ],
      "execution_count": 0,
      "outputs": [
        {
          "output_type": "execute_result",
          "data": {
            "text/plain": [
              "array([[1., 2., 3., 4.],\n",
              "       [5., 6., 7., 8.]])"
            ]
          },
          "metadata": {
            "tags": []
          },
          "execution_count": 28
        }
      ]
    },
    {
      "cell_type": "markdown",
      "metadata": {
        "id": "_2jMesvtlcOg",
        "colab_type": "text"
      },
      "source": [
        "**Operations:ndarrays and scalars**"
      ]
    },
    {
      "cell_type": "markdown",
      "metadata": {
        "id": "rl8yChA7lhWG",
        "colab_type": "text"
      },
      "source": [
        "Vectorization: batch operations on\n",
        "arrays without having to loop through\n",
        "\n",
        "Arithmetic operations on equal-sized\n",
        "arrays applies the operation element\n",
        "wise"
      ]
    },
    {
      "cell_type": "code",
      "metadata": {
        "id": "zOfLqQABleYA",
        "colab_type": "code",
        "outputId": "b7fb5027-a235-499f-a5f5-c0044ed4ecd7",
        "colab": {
          "base_uri": "https://localhost:8080/",
          "height": 50
        }
      },
      "source": [
        "array1=np.array([[1,2,3,4],[5,6,7,8]])\n",
        "2*array1"
      ],
      "execution_count": 0,
      "outputs": [
        {
          "output_type": "execute_result",
          "data": {
            "text/plain": [
              "array([[ 2,  4,  6,  8],\n",
              "       [10, 12, 14, 16]])"
            ]
          },
          "metadata": {
            "tags": []
          },
          "execution_count": 31
        }
      ]
    },
    {
      "cell_type": "code",
      "metadata": {
        "id": "21lGuYjMlrh_",
        "colab_type": "code",
        "outputId": "8b48c53a-f61c-40ad-cb8b-965e4ac3a7b1",
        "colab": {
          "base_uri": "https://localhost:8080/",
          "height": 50
        }
      },
      "source": [
        "array1+array1+array1"
      ],
      "execution_count": 0,
      "outputs": [
        {
          "output_type": "execute_result",
          "data": {
            "text/plain": [
              "array([[ 3,  6,  9, 12],\n",
              "       [15, 18, 21, 24]])"
            ]
          },
          "metadata": {
            "tags": []
          },
          "execution_count": 32
        }
      ]
    },
    {
      "cell_type": "code",
      "metadata": {
        "id": "9VLsqJGiltmE",
        "colab_type": "code",
        "outputId": "26a12e44-5721-4686-caf5-39c71cd67792",
        "colab": {
          "base_uri": "https://localhost:8080/",
          "height": 50
        }
      },
      "source": [
        "array1-array1"
      ],
      "execution_count": 0,
      "outputs": [
        {
          "output_type": "execute_result",
          "data": {
            "text/plain": [
              "array([[0, 0, 0, 0],\n",
              "       [0, 0, 0, 0]])"
            ]
          },
          "metadata": {
            "tags": []
          },
          "execution_count": 33
        }
      ]
    },
    {
      "cell_type": "code",
      "metadata": {
        "id": "PU2bNJBWlxI_",
        "colab_type": "code",
        "outputId": "f8e8322d-a1e6-4a47-f15a-f7e3545ceb08",
        "colab": {
          "base_uri": "https://localhost:8080/",
          "height": 50
        }
      },
      "source": [
        "array1*2"
      ],
      "execution_count": 0,
      "outputs": [
        {
          "output_type": "execute_result",
          "data": {
            "text/plain": [
              "array([[ 2,  4,  6,  8],\n",
              "       [10, 12, 14, 16]])"
            ]
          },
          "metadata": {
            "tags": []
          },
          "execution_count": 34
        }
      ]
    },
    {
      "cell_type": "code",
      "metadata": {
        "id": "USuJFaTrlyZP",
        "colab_type": "code",
        "outputId": "cf683f33-a46f-476c-8604-d2b5527ec344",
        "colab": {
          "base_uri": "https://localhost:8080/",
          "height": 50
        }
      },
      "source": [
        "1/array1"
      ],
      "execution_count": 0,
      "outputs": [
        {
          "output_type": "execute_result",
          "data": {
            "text/plain": [
              "array([[1.        , 0.5       , 0.33333333, 0.25      ],\n",
              "       [0.2       , 0.16666667, 0.14285714, 0.125     ]])"
            ]
          },
          "metadata": {
            "tags": []
          },
          "execution_count": 35
        }
      ]
    },
    {
      "cell_type": "code",
      "metadata": {
        "id": "GaQGTiuJlzxN",
        "colab_type": "code",
        "outputId": "f5d5202e-0c3a-4e84-feb6-f737e6fe6c64",
        "colab": {
          "base_uri": "https://localhost:8080/",
          "height": 50
        }
      },
      "source": [
        "array1**2"
      ],
      "execution_count": 0,
      "outputs": [
        {
          "output_type": "execute_result",
          "data": {
            "text/plain": [
              "array([[ 1,  4,  9, 16],\n",
              "       [25, 36, 49, 64]])"
            ]
          },
          "metadata": {
            "tags": []
          },
          "execution_count": 36
        }
      ]
    },
    {
      "cell_type": "markdown",
      "metadata": {
        "id": "eTnIES0cl4zv",
        "colab_type": "text"
      },
      "source": [
        "**ndarrays: indexing and slicing**"
      ]
    },
    {
      "cell_type": "markdown",
      "metadata": {
        "id": "m9FyyT83l7yO",
        "colab_type": "text"
      },
      "source": [
        "1-d array slicing and indexing is similar to Python lists"
      ]
    },
    {
      "cell_type": "code",
      "metadata": {
        "id": "OCRNhd1rl1kS",
        "colab_type": "code",
        "outputId": "203e9656-187f-4847-88f4-fc426f6e8057",
        "colab": {
          "base_uri": "https://localhost:8080/",
          "height": 34
        }
      },
      "source": [
        "arr1=[1,2,3,4,5,6]\n",
        "arr1"
      ],
      "execution_count": 0,
      "outputs": [
        {
          "output_type": "execute_result",
          "data": {
            "text/plain": [
              "[1, 2, 3, 4, 5, 6]"
            ]
          },
          "metadata": {
            "tags": []
          },
          "execution_count": 37
        }
      ]
    },
    {
      "cell_type": "code",
      "metadata": {
        "id": "VTRKtRZQmBQ5",
        "colab_type": "code",
        "outputId": "30621ba6-e9e2-4a2d-b278-81cfee9deab7",
        "colab": {
          "base_uri": "https://localhost:8080/",
          "height": 34
        }
      },
      "source": [
        "arr1[5]"
      ],
      "execution_count": 0,
      "outputs": [
        {
          "output_type": "execute_result",
          "data": {
            "text/plain": [
              "6"
            ]
          },
          "metadata": {
            "tags": []
          },
          "execution_count": 38
        }
      ]
    },
    {
      "cell_type": "code",
      "metadata": {
        "id": "21OvDfUamDNR",
        "colab_type": "code",
        "colab": {}
      },
      "source": [
        "#Here arr1 is a list"
      ],
      "execution_count": 0,
      "outputs": []
    },
    {
      "cell_type": "markdown",
      "metadata": {
        "id": "WOVNtcO9ClsY",
        "colab_type": "text"
      },
      "source": [
        "Slicing on arrays:"
      ]
    },
    {
      "cell_type": "code",
      "metadata": {
        "id": "i8RIbFASlXkH",
        "colab_type": "code",
        "outputId": "9c93c1f9-f2f8-4701-ef9a-528442cb2a5d",
        "colab": {
          "base_uri": "https://localhost:8080/",
          "height": 34
        }
      },
      "source": [
        "arr1=np.array([1,2,5,6,4,3])\n",
        "arr1"
      ],
      "execution_count": 0,
      "outputs": [
        {
          "output_type": "execute_result",
          "data": {
            "text/plain": [
              "array([1, 2, 5, 6, 4, 3])"
            ]
          },
          "metadata": {
            "tags": []
          },
          "execution_count": 29
        }
      ]
    },
    {
      "cell_type": "code",
      "metadata": {
        "id": "iXznWbPmmFMw",
        "colab_type": "code",
        "outputId": "2ee5eb9e-c420-4353-a59e-15bbb39e7b86",
        "colab": {
          "base_uri": "https://localhost:8080/",
          "height": 34
        }
      },
      "source": [
        "arr1[3]"
      ],
      "execution_count": 0,
      "outputs": [
        {
          "output_type": "execute_result",
          "data": {
            "text/plain": [
              "6"
            ]
          },
          "metadata": {
            "tags": []
          },
          "execution_count": 30
        }
      ]
    },
    {
      "cell_type": "code",
      "metadata": {
        "id": "DIxA7Ya1CtJY",
        "colab_type": "code",
        "outputId": "3525884a-590b-4052-d44c-caaa3f1237f0",
        "colab": {
          "base_uri": "https://localhost:8080/",
          "height": 34
        }
      },
      "source": [
        "arr1[2:4]"
      ],
      "execution_count": 0,
      "outputs": [
        {
          "output_type": "execute_result",
          "data": {
            "text/plain": [
              "array([5, 6])"
            ]
          },
          "metadata": {
            "tags": []
          },
          "execution_count": 31
        }
      ]
    },
    {
      "cell_type": "code",
      "metadata": {
        "id": "CvqevplmCxKG",
        "colab_type": "code",
        "outputId": "7006c2f8-7c76-4e21-ccd9-64c3067ee6c6",
        "colab": {
          "base_uri": "https://localhost:8080/",
          "height": 34
        }
      },
      "source": [
        "arr1[2:]"
      ],
      "execution_count": 0,
      "outputs": [
        {
          "output_type": "execute_result",
          "data": {
            "text/plain": [
              "array([5, 6, 4, 3])"
            ]
          },
          "metadata": {
            "tags": []
          },
          "execution_count": 32
        }
      ]
    },
    {
      "cell_type": "code",
      "metadata": {
        "id": "FY7luzDpC0fW",
        "colab_type": "code",
        "outputId": "6938ef9a-9a0b-4b5d-b402-b8aa826b8a02",
        "colab": {
          "base_uri": "https://localhost:8080/",
          "height": 34
        }
      },
      "source": [
        "arr1[2:4]=99\n",
        "arr1"
      ],
      "execution_count": 0,
      "outputs": [
        {
          "output_type": "execute_result",
          "data": {
            "text/plain": [
              "array([ 1,  2, 99, 99,  4,  3])"
            ]
          },
          "metadata": {
            "tags": []
          },
          "execution_count": 33
        }
      ]
    },
    {
      "cell_type": "markdown",
      "metadata": {
        "id": "0FSCbj5tDCGC",
        "colab_type": "text"
      },
      "source": [
        "Slicing in ndarrays is different from Python\n",
        "lists in that data is not copied.\n",
        "Slices are views on the original array!"
      ]
    },
    {
      "cell_type": "code",
      "metadata": {
        "id": "gjcdCxmcC-Pe",
        "colab_type": "code",
        "outputId": "0d32af6f-ad18-42b8-903e-20706b1408e8",
        "colab": {
          "base_uri": "https://localhost:8080/",
          "height": 34
        }
      },
      "source": [
        "arr2=arr1[2:4]\n",
        "arr2[0]=88\n",
        "arr1"
      ],
      "execution_count": 0,
      "outputs": [
        {
          "output_type": "execute_result",
          "data": {
            "text/plain": [
              "array([ 1,  2, 88, 99,  4,  3])"
            ]
          },
          "metadata": {
            "tags": []
          },
          "execution_count": 35
        }
      ]
    },
    {
      "cell_type": "markdown",
      "metadata": {
        "id": "2dVc_pXTDSlX",
        "colab_type": "text"
      },
      "source": [
        "**Higher dimensional ndarrays**"
      ]
    },
    {
      "cell_type": "code",
      "metadata": {
        "id": "x_0X_q-ADKj8",
        "colab_type": "code",
        "outputId": "610797e0-202e-4d56-f2bd-dc6e3d922efd",
        "colab": {
          "base_uri": "https://localhost:8080/",
          "height": 67
        }
      },
      "source": [
        "array34=np.array([[1,2,3,4],[5,6,7,8],[9,10,11,12]])\n",
        "array34"
      ],
      "execution_count": 0,
      "outputs": [
        {
          "output_type": "execute_result",
          "data": {
            "text/plain": [
              "array([[ 1,  2,  3,  4],\n",
              "       [ 5,  6,  7,  8],\n",
              "       [ 9, 10, 11, 12]])"
            ]
          },
          "metadata": {
            "tags": []
          },
          "execution_count": 36
        }
      ]
    },
    {
      "cell_type": "code",
      "metadata": {
        "id": "5GPonTsmDYYA",
        "colab_type": "code",
        "outputId": "8ca2b3d3-c8ef-46eb-943c-06c82a5f294e",
        "colab": {
          "base_uri": "https://localhost:8080/",
          "height": 34
        }
      },
      "source": [
        "array34[1]"
      ],
      "execution_count": 0,
      "outputs": [
        {
          "output_type": "execute_result",
          "data": {
            "text/plain": [
              "array([5, 6, 7, 8])"
            ]
          },
          "metadata": {
            "tags": []
          },
          "execution_count": 37
        }
      ]
    },
    {
      "cell_type": "code",
      "metadata": {
        "id": "S3UhCjfcDaEZ",
        "colab_type": "code",
        "outputId": "d3d1fc01-7e5b-451f-a271-b2067e13a6df",
        "colab": {
          "base_uri": "https://localhost:8080/",
          "height": 34
        }
      },
      "source": [
        "array34[:,2]"
      ],
      "execution_count": 0,
      "outputs": [
        {
          "output_type": "execute_result",
          "data": {
            "text/plain": [
              "array([ 3,  7, 11])"
            ]
          },
          "metadata": {
            "tags": []
          },
          "execution_count": 38
        }
      ]
    },
    {
      "cell_type": "markdown",
      "metadata": {
        "id": "WfUytm9HDlKE",
        "colab_type": "text"
      },
      "source": [
        "Scalars as well as arrays can be\n",
        "assigned to a row"
      ]
    },
    {
      "cell_type": "code",
      "metadata": {
        "id": "hx3FOwgaDfM0",
        "colab_type": "code",
        "outputId": "d07d3fa0-c441-4142-93f3-c143e364b291",
        "colab": {
          "base_uri": "https://localhost:8080/",
          "height": 67
        }
      },
      "source": [
        "array34[2]=99\n",
        "array34"
      ],
      "execution_count": 0,
      "outputs": [
        {
          "output_type": "execute_result",
          "data": {
            "text/plain": [
              "array([[ 1,  2,  3,  4],\n",
              "       [ 5,  6,  7,  8],\n",
              "       [99, 99, 99, 99]])"
            ]
          },
          "metadata": {
            "tags": []
          },
          "execution_count": 40
        }
      ]
    },
    {
      "cell_type": "code",
      "metadata": {
        "id": "zKZA-0xdDrFc",
        "colab_type": "code",
        "outputId": "e4e45d29-c85b-4a52-b718-e8eb438d9679",
        "colab": {
          "base_uri": "https://localhost:8080/",
          "height": 67
        }
      },
      "source": [
        "array2=np.array([15,16,17,18])\n",
        "array34[1]=array2\n",
        "array34"
      ],
      "execution_count": 0,
      "outputs": [
        {
          "output_type": "execute_result",
          "data": {
            "text/plain": [
              "array([[ 1,  2,  3,  4],\n",
              "       [15, 16, 17, 18],\n",
              "       [99, 99, 99, 99]])"
            ]
          },
          "metadata": {
            "tags": []
          },
          "execution_count": 41
        }
      ]
    },
    {
      "cell_type": "code",
      "metadata": {
        "id": "r5s04Bc5Dvwk",
        "colab_type": "code",
        "outputId": "aba076b1-2768-4016-d80a-667f0848a6de",
        "colab": {
          "base_uri": "https://localhost:8080/",
          "height": 101
        }
      },
      "source": [
        "array223=np.array([[[1,2,3],[4,5,6]],[[7,8,9],[10,11,12]]])\n",
        "array223"
      ],
      "execution_count": 0,
      "outputs": [
        {
          "output_type": "execute_result",
          "data": {
            "text/plain": [
              "array([[[ 1,  2,  3],\n",
              "        [ 4,  5,  6]],\n",
              "\n",
              "       [[ 7,  8,  9],\n",
              "        [10, 11, 12]]])"
            ]
          },
          "metadata": {
            "tags": []
          },
          "execution_count": 42
        }
      ]
    },
    {
      "cell_type": "code",
      "metadata": {
        "id": "wbBZWcxPD0iZ",
        "colab_type": "code",
        "outputId": "5b1ffa37-e655-43fa-a894-80cfc2a4fe04",
        "colab": {
          "base_uri": "https://localhost:8080/",
          "height": 50
        }
      },
      "source": [
        "array223[1]"
      ],
      "execution_count": 0,
      "outputs": [
        {
          "output_type": "execute_result",
          "data": {
            "text/plain": [
              "array([[ 7,  8,  9],\n",
              "       [10, 11, 12]])"
            ]
          },
          "metadata": {
            "tags": []
          },
          "execution_count": 43
        }
      ]
    },
    {
      "cell_type": "code",
      "metadata": {
        "id": "DzTaTQzyD3Ol",
        "colab_type": "code",
        "outputId": "aa78c991-4d22-4fd3-d434-19eea00f4457",
        "colab": {
          "base_uri": "https://localhost:8080/",
          "height": 34
        }
      },
      "source": [
        "array223[1,0]"
      ],
      "execution_count": 0,
      "outputs": [
        {
          "output_type": "execute_result",
          "data": {
            "text/plain": [
              "array([7, 8, 9])"
            ]
          },
          "metadata": {
            "tags": []
          },
          "execution_count": 44
        }
      ]
    },
    {
      "cell_type": "code",
      "metadata": {
        "id": "ElhCx7bZD5y7",
        "colab_type": "code",
        "outputId": "9b9e13d8-10b1-479e-9bbd-2c5c56a4398c",
        "colab": {
          "base_uri": "https://localhost:8080/",
          "height": 34
        }
      },
      "source": [
        "array223[1,0,1:]"
      ],
      "execution_count": 0,
      "outputs": [
        {
          "output_type": "execute_result",
          "data": {
            "text/plain": [
              "array([8, 9])"
            ]
          },
          "metadata": {
            "tags": []
          },
          "execution_count": 45
        }
      ]
    },
    {
      "cell_type": "code",
      "metadata": {
        "id": "62LLt4raD8Gf",
        "colab_type": "code",
        "outputId": "335563c5-0006-42eb-f66a-8523b9f919d1",
        "colab": {
          "base_uri": "https://localhost:8080/",
          "height": 34
        }
      },
      "source": [
        "array223[:,1,1]"
      ],
      "execution_count": 0,
      "outputs": [
        {
          "output_type": "execute_result",
          "data": {
            "text/plain": [
              "array([ 5, 11])"
            ]
          },
          "metadata": {
            "tags": []
          },
          "execution_count": 46
        }
      ]
    },
    {
      "cell_type": "code",
      "metadata": {
        "id": "UcxkAgTwEEK7",
        "colab_type": "code",
        "outputId": "5fc55c88-4565-4658-a24f-f52cc9f2964c",
        "colab": {
          "base_uri": "https://localhost:8080/",
          "height": 50
        }
      },
      "source": [
        "array223[...,1]"
      ],
      "execution_count": 0,
      "outputs": [
        {
          "output_type": "execute_result",
          "data": {
            "text/plain": [
              "array([[ 2,  5],\n",
              "       [ 8, 11]])"
            ]
          },
          "metadata": {
            "tags": []
          },
          "execution_count": 47
        }
      ]
    },
    {
      "cell_type": "code",
      "metadata": {
        "id": "SZuks4GIEHB1",
        "colab_type": "code",
        "outputId": "92088dfb-4002-4dcc-81a1-c2017ea778b7",
        "colab": {
          "base_uri": "https://localhost:8080/",
          "height": 34
        }
      },
      "source": [
        "array223[...,1,1]"
      ],
      "execution_count": 0,
      "outputs": [
        {
          "output_type": "execute_result",
          "data": {
            "text/plain": [
              "array([ 5, 11])"
            ]
          },
          "metadata": {
            "tags": []
          },
          "execution_count": 48
        }
      ]
    },
    {
      "cell_type": "markdown",
      "metadata": {
        "id": "TEnJ-2MGEUyc",
        "colab_type": "text"
      },
      "source": [
        "**Boolean Indexing**"
      ]
    },
    {
      "cell_type": "code",
      "metadata": {
        "id": "xPkGA0X3ERJO",
        "colab_type": "code",
        "outputId": "69d4ffd3-b95e-4114-8aea-33ecdfdc8a31",
        "colab": {
          "base_uri": "https://localhost:8080/",
          "height": 34
        }
      },
      "source": [
        "names=np.array(['A','B','A','D','Z','C'])\n",
        "names"
      ],
      "execution_count": 0,
      "outputs": [
        {
          "output_type": "execute_result",
          "data": {
            "text/plain": [
              "array(['A', 'B', 'A', 'D', 'Z', 'C'], dtype='<U1')"
            ]
          },
          "metadata": {
            "tags": []
          },
          "execution_count": 49
        }
      ]
    },
    {
      "cell_type": "code",
      "metadata": {
        "id": "ABaoc3atEYGH",
        "colab_type": "code",
        "outputId": "1fd56654-af19-42b8-9047-85acf74624c1",
        "colab": {
          "base_uri": "https://localhost:8080/",
          "height": 34
        }
      },
      "source": [
        "alog=names=='A'\n",
        "alog"
      ],
      "execution_count": 0,
      "outputs": [
        {
          "output_type": "execute_result",
          "data": {
            "text/plain": [
              "array([ True, False,  True, False, False, False])"
            ]
          },
          "metadata": {
            "tags": []
          },
          "execution_count": 50
        }
      ]
    },
    {
      "cell_type": "code",
      "metadata": {
        "id": "dJyjsdjcEejG",
        "colab_type": "code",
        "outputId": "a548c5cb-9795-48e6-82d2-67f9c2242c59",
        "colab": {
          "base_uri": "https://localhost:8080/",
          "height": 118
        }
      },
      "source": [
        "array34=np.array([[1,2],[3,4],[5,6],[7,8],[9,10],[11,12]])\n",
        "array34"
      ],
      "execution_count": 0,
      "outputs": [
        {
          "output_type": "execute_result",
          "data": {
            "text/plain": [
              "array([[ 1,  2],\n",
              "       [ 3,  4],\n",
              "       [ 5,  6],\n",
              "       [ 7,  8],\n",
              "       [ 9, 10],\n",
              "       [11, 12]])"
            ]
          },
          "metadata": {
            "tags": []
          },
          "execution_count": 52
        }
      ]
    },
    {
      "cell_type": "code",
      "metadata": {
        "id": "DrIhpBQQEjvb",
        "colab_type": "code",
        "outputId": "4bd44219-8b2b-4a78-9e4c-20a55526fc50",
        "colab": {
          "base_uri": "https://localhost:8080/",
          "height": 50
        }
      },
      "source": [
        "array34[alog]"
      ],
      "execution_count": 0,
      "outputs": [
        {
          "output_type": "execute_result",
          "data": {
            "text/plain": [
              "array([[1, 2],\n",
              "       [5, 6]])"
            ]
          },
          "metadata": {
            "tags": []
          },
          "execution_count": 53
        }
      ]
    },
    {
      "cell_type": "markdown",
      "metadata": {
        "id": "YZB-UVRHErj4",
        "colab_type": "text"
      },
      "source": [
        "Boolean indices may be combined\n",
        "with slice indices or integer indices"
      ]
    },
    {
      "cell_type": "code",
      "metadata": {
        "id": "jGu5f-jtEmSe",
        "colab_type": "code",
        "outputId": "756c6950-c839-4c17-ada1-9b975a93cd72",
        "colab": {
          "base_uri": "https://localhost:8080/",
          "height": 34
        }
      },
      "source": [
        "array34[alog,1]"
      ],
      "execution_count": 0,
      "outputs": [
        {
          "output_type": "execute_result",
          "data": {
            "text/plain": [
              "array([2, 6])"
            ]
          },
          "metadata": {
            "tags": []
          },
          "execution_count": 54
        }
      ]
    },
    {
      "cell_type": "code",
      "metadata": {
        "id": "lcXADYLNEvEK",
        "colab_type": "code",
        "outputId": "ab3b9875-2393-4b37-f659-632219db275b",
        "colab": {
          "base_uri": "https://localhost:8080/",
          "height": 50
        }
      },
      "source": [
        "array34[alog,0:]"
      ],
      "execution_count": 0,
      "outputs": [
        {
          "output_type": "execute_result",
          "data": {
            "text/plain": [
              "array([[1, 2],\n",
              "       [5, 6]])"
            ]
          },
          "metadata": {
            "tags": []
          },
          "execution_count": 55
        }
      ]
    },
    {
      "cell_type": "code",
      "metadata": {
        "id": "EpOMj-vnEwY4",
        "colab_type": "code",
        "outputId": "0986bc25-3e11-432e-bd98-fff9f4e9e7c8",
        "colab": {
          "base_uri": "https://localhost:8080/",
          "height": 84
        }
      },
      "source": [
        "array34[names!='A']"
      ],
      "execution_count": 0,
      "outputs": [
        {
          "output_type": "execute_result",
          "data": {
            "text/plain": [
              "array([[ 3,  4],\n",
              "       [ 7,  8],\n",
              "       [ 9, 10],\n",
              "       [11, 12]])"
            ]
          },
          "metadata": {
            "tags": []
          },
          "execution_count": 56
        }
      ]
    },
    {
      "cell_type": "code",
      "metadata": {
        "id": "sH48Px0bE4yU",
        "colab_type": "code",
        "outputId": "6117b3a0-5578-4267-f767-1ebfc311562c",
        "colab": {
          "base_uri": "https://localhost:8080/",
          "height": 84
        }
      },
      "source": [
        "array34[~(names=='A')]"
      ],
      "execution_count": 0,
      "outputs": [
        {
          "output_type": "execute_result",
          "data": {
            "text/plain": [
              "array([[ 3,  4],\n",
              "       [ 7,  8],\n",
              "       [ 9, 10],\n",
              "       [11, 12]])"
            ]
          },
          "metadata": {
            "tags": []
          },
          "execution_count": 57
        }
      ]
    },
    {
      "cell_type": "markdown",
      "metadata": {
        "id": "Y9IXyQYTE-Ri",
        "colab_type": "text"
      },
      "source": [
        "Boolean conditions may be combined\n",
        "with logical OR (|) or logical AND (&)"
      ]
    },
    {
      "cell_type": "code",
      "metadata": {
        "id": "4-fcxibCE7N5",
        "colab_type": "code",
        "outputId": "4e5926fa-f395-487a-a72e-54eb2fee1bb3",
        "colab": {
          "base_uri": "https://localhost:8080/",
          "height": 67
        }
      },
      "source": [
        "blog=(names=='A')|(names=='C')\n",
        "array34[blog]"
      ],
      "execution_count": 0,
      "outputs": [
        {
          "output_type": "execute_result",
          "data": {
            "text/plain": [
              "array([[ 1,  2],\n",
              "       [ 5,  6],\n",
              "       [11, 12]])"
            ]
          },
          "metadata": {
            "tags": []
          },
          "execution_count": 58
        }
      ]
    },
    {
      "cell_type": "code",
      "metadata": {
        "id": "FqhBQg3_FBhM",
        "colab_type": "code",
        "outputId": "3b64f79b-1256-4ba8-c5cc-2b40605a6000",
        "colab": {
          "base_uri": "https://localhost:8080/",
          "height": 118
        }
      },
      "source": [
        "array34[names=='A']=99\n",
        "array34"
      ],
      "execution_count": 0,
      "outputs": [
        {
          "output_type": "execute_result",
          "data": {
            "text/plain": [
              "array([[99, 99],\n",
              "       [ 3,  4],\n",
              "       [99, 99],\n",
              "       [ 7,  8],\n",
              "       [ 9, 10],\n",
              "       [11, 12]])"
            ]
          },
          "metadata": {
            "tags": []
          },
          "execution_count": 59
        }
      ]
    },
    {
      "cell_type": "code",
      "metadata": {
        "id": "qOAIECfaFGD3",
        "colab_type": "code",
        "outputId": "c4f18b0b-25ea-403f-8ef6-b8ceafc4bba7",
        "colab": {
          "base_uri": "https://localhost:8080/",
          "height": 118
        }
      },
      "source": [
        "array34[array34>90]=100\n",
        "array34"
      ],
      "execution_count": 0,
      "outputs": [
        {
          "output_type": "execute_result",
          "data": {
            "text/plain": [
              "array([[100, 100],\n",
              "       [  3,   4],\n",
              "       [100, 100],\n",
              "       [  7,   8],\n",
              "       [  9,  10],\n",
              "       [ 11,  12]])"
            ]
          },
          "metadata": {
            "tags": []
          },
          "execution_count": 60
        }
      ]
    },
    {
      "cell_type": "code",
      "metadata": {
        "id": "UK5yBMRhFKJb",
        "colab_type": "code",
        "colab": {}
      },
      "source": [
        ""
      ],
      "execution_count": 0,
      "outputs": []
    }
  ]
}